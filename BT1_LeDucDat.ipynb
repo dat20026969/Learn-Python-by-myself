{
  "nbformat": 4,
  "nbformat_minor": 0,
  "metadata": {
    "colab": {
      "provenance": []
    },
    "kernelspec": {
      "name": "python3",
      "display_name": "Python 3"
    },
    "language_info": {
      "name": "python"
    },
    "gpuClass": "standard"
  },
  "cells": [
    {
      "cell_type": "markdown",
      "source": [
        "# TUẦN 1"
      ],
      "metadata": {
        "id": "gunKAr1LGoxb"
      }
    },
    {
      "cell_type": "markdown",
      "source": [
        "## BÀI TẬP 1"
      ],
      "metadata": {
        "id": "sDYgRBauFiRD"
      }
    },
    {
      "cell_type": "code",
      "source": [
        "import math\n",
        "import random"
      ],
      "metadata": {
        "id": "dyh8GpIb6tOT"
      },
      "execution_count": null,
      "outputs": []
    },
    {
      "cell_type": "code",
      "source": [
        "def volume_of_HLP(canh):\n",
        "    return canh ** 3\n",
        "\n",
        "input_str = input(\"Nhập chiều dài cạnh của hình lập phương: \")\n",
        "\n",
        "canh = float(input_str.replace(',', '.'))\n",
        "\n",
        "volume = volume_of_HLP(canh)\n",
        "print(\"Thể tích của hình lập phương là:\", volume)"
      ],
      "metadata": {
        "colab": {
          "base_uri": "https://localhost:8080/"
        },
        "id": "p2Vo4w5Y6ulJ",
        "outputId": "0f55a848-9f57-4e3f-cbb1-6ff93f6458e4"
      },
      "execution_count": null,
      "outputs": [
        {
          "output_type": "stream",
          "name": "stdout",
          "text": [
            "Nhập chiều dài cạnh của hình lập phương: 4,5\n",
            "Thể tích của hình lập phương là: 91.125\n"
          ]
        }
      ]
    },
    {
      "cell_type": "code",
      "source": [
        "def volume_of_HHCN(dai, rong, cao):\n",
        "   return dai * rong * cao\n",
        "\n",
        "dai_str = input(\"Nhập chiều dài cạnh của HHCN: \")\n",
        "rong_str = input(\"Nhập chiều rộng cạnh của HHCN: \")\n",
        "cao_str = input(\"Nhập chiều cao cạnh của HHCN: \")\n",
        "\n",
        "dai = float(dai_str.replace(',', '.'))\n",
        "rong = float(rong_str.replace(',', '.'))\n",
        "cao = float(cao_str.replace(',', '.'))\n",
        "\n",
        "volume1 = volume_of_HHCN(dai, rong, cao)\n",
        "print(\"Thể tích của HHCN là:\", volume1)"
      ],
      "metadata": {
        "colab": {
          "base_uri": "https://localhost:8080/"
        },
        "id": "L3yDUAtd-JEh",
        "outputId": "70998bc1-56d3-4b25-efe3-085bc878913f"
      },
      "execution_count": null,
      "outputs": [
        {
          "output_type": "stream",
          "name": "stdout",
          "text": [
            "Nhập chiều dài cạnh của HHCN: 3\n",
            "Nhập chiều rộng cạnh của HHCN: 4\n",
            "Nhập chiều cao cạnh của HHCN: 5\n",
            "Thể tích của HHCN là: 60.0\n"
          ]
        }
      ]
    },
    {
      "cell_type": "code",
      "source": [
        "def volume_of_HinhTru(r, h):\n",
        "  pi = 3.14\n",
        "  return r**2 * pi * h\n",
        "\n",
        "ban_kinh_str = input(\"Nhập bán kính của hình trụ: \")\n",
        "chieu_cao_str = input(\"Nhập chiều cao của hình trụ: \")\n",
        "\n",
        "r = float(ban_kinh_str.replace(',', '.'))\n",
        "h = float(chieu_cao_str.replace(',', '.'))\n",
        "\n",
        "volume2 = volume_of_HinhTru(r, h)\n",
        "print(\"Thể tích hình trụ: \", volume2)"
      ],
      "metadata": {
        "colab": {
          "base_uri": "https://localhost:8080/"
        },
        "id": "YZlRJnUsBofR",
        "outputId": "d5fef07e-c77f-4b0e-946a-36bfb387bc3e"
      },
      "execution_count": null,
      "outputs": [
        {
          "output_type": "stream",
          "name": "stdout",
          "text": [
            "Nhập bán kính của hình trụ: 6\n",
            "Nhập chiều cao của hình trụ: 9\n",
            "Thể tích hình trụ:  1017.36\n"
          ]
        }
      ]
    },
    {
      "cell_type": "code",
      "source": [
        "def volume_of_HinhCau(r):\n",
        "  pi = 3.14\n",
        "  return 4/3 * pi * r**3\n",
        "\n",
        "ban_kinh_str = input(\"Nhập bán kính của hình cầu: \")\n",
        "\n",
        "r = float(ban_kinh_str.replace(',', '.'))\n",
        "\n",
        "volume3 = volume_of_HinhCau(r)\n",
        "print(\"Thể tích hình trụ: \", volume3)"
      ],
      "metadata": {
        "colab": {
          "base_uri": "https://localhost:8080/"
        },
        "id": "-QzBWrl7DTMr",
        "outputId": "8938dcce-113c-472a-a7d4-548513edc5f4"
      },
      "execution_count": null,
      "outputs": [
        {
          "output_type": "stream",
          "name": "stdout",
          "text": [
            "Nhập bán kính của hình cầu: 5\n",
            "Thể tích hình trụ:  523.3333333333334\n"
          ]
        }
      ]
    },
    {
      "cell_type": "markdown",
      "source": [
        "# BÀI TẬP 2"
      ],
      "metadata": {
        "id": "MvIH2amCFowh"
      }
    },
    {
      "cell_type": "code",
      "source": [
        "def evaluate_classification_model(tp, fp, fn):\n",
        "    if not isinstance(tp, int):\n",
        "        print(\"tp phải là STN\")\n",
        "        return\n",
        "    if not isinstance(fp, int):\n",
        "        print(\"fp phải là STN\")\n",
        "        return\n",
        "    if not isinstance(fn, int):\n",
        "        print(\"fn phải là STN\")\n",
        "        return\n",
        "\n",
        "    if tp <= 0 or fp <= 0 or fn <= 0:\n",
        "        print(\"tp, fp, và fn PHẢI LỚN HƠN 0\")\n",
        "        return\n",
        "\n",
        "    precision = tp / (tp + fp)\n",
        "    recall = tp / (tp + fn)\n",
        "    f1_score = 2 * precision * recall / (precision + recall)\n",
        "\n",
        "    print(\"Precision:\", precision)\n",
        "    print(\"Recall:\", recall)\n",
        "    print(\"F1-score:\", f1_score)\n",
        "\n",
        "try:\n",
        "    tp = int(input(\"Nhập giá trị tp: \"))\n",
        "    fp = int(input(\"Nhập giá trị fp: \"))\n",
        "    fn = int(input(\"Nhập giá trị fn: \"))\n",
        "except ValueError:\n",
        "    print(\"tp, fp, và fn phải là số nguyên\")\n",
        "else:\n",
        "    evaluate_classification_model(tp, fp, fn)\n"
      ],
      "metadata": {
        "colab": {
          "base_uri": "https://localhost:8080/"
        },
        "id": "kDD6fc0nENP5",
        "outputId": "21ca1d7a-242f-4fa6-e0d0-61efbe5d325f"
      },
      "execution_count": null,
      "outputs": [
        {
          "output_type": "stream",
          "name": "stdout",
          "text": [
            "Nhập giá trị tp: 2\n",
            "Nhập giá trị fp: 3\n",
            "Nhập giá trị fn: 4\n",
            "Precision: 0.4\n",
            "Recall: 0.3333333333333333\n",
            "F1-score: 0.3636363636363636\n"
          ]
        }
      ]
    },
    {
      "cell_type": "markdown",
      "source": [
        "# BÀI TẬP 3"
      ],
      "metadata": {
        "id": "zBk5RbC4JJ7T"
      }
    },
    {
      "cell_type": "code",
      "source": [
        "def is_number(s):\n",
        "    try:\n",
        "        float(s)\n",
        "        return True\n",
        "    except ValueError:\n",
        "        return False\n",
        "\n",
        "def activation_function(x, alpha, function_name):\n",
        "    if function_name == 'binary':\n",
        "        return 0 if x < 0 else 1\n",
        "    elif function_name == 'sigmoid':\n",
        "        return 1 / (1 + math.exp(-x))\n",
        "    elif function_name == 'elu':\n",
        "        return alpha * (math.exp(x) - 1) if x < 0 else x\n",
        "    else:\n",
        "        print(f\"{function_name} không được hỗ trợ\")\n",
        "        return None\n",
        "\n",
        "x_str = input(\"Nhập giá trị x: \")\n",
        "alpha_str = input(\"Nhập giá trị alpha: \")\n",
        "\n",
        "if not is_number(x_str):\n",
        "    print(\"x phải là 1 số\")\n",
        "else:\n",
        "    x = float(x_str)\n",
        "    alpha = float(alpha_str)\n",
        "\n",
        "    function_name = input(\"Nhập tên activation function (binary, sigmoid, elu): \")\n",
        "\n",
        "    result = activation_function(x, alpha, function_name)\n",
        "    if result is not None:\n",
        "        print(f\"Kết quả f(x) khi đi qua activation function {function_name}: {result}\")\n"
      ],
      "metadata": {
        "colab": {
          "base_uri": "https://localhost:8080/"
        },
        "id": "OHUg9wunJL5y",
        "outputId": "c77079dc-3d9d-4f0f-968b-c9ede1e711ce"
      },
      "execution_count": null,
      "outputs": [
        {
          "output_type": "stream",
          "name": "stdout",
          "text": [
            "Nhập giá trị x: 4\n",
            "Nhập giá trị alpha: 0.1\n",
            "Nhập tên activation function (binary, sigmoid, elu): elu\n",
            "Kết quả f(x) khi đi qua activation function elu: 4.0\n"
          ]
        }
      ]
    },
    {
      "cell_type": "markdown",
      "source": [
        "# BÀI TẬP 4"
      ],
      "metadata": {
        "id": "xpw8Of-BJpv6"
      }
    },
    {
      "cell_type": "code",
      "source": [
        "def calculate_loss(predict, target, loss_name):\n",
        "    if loss_name == 'MAE':\n",
        "        return abs(predict - target)\n",
        "    elif loss_name == 'MSE':\n",
        "        return (predict - target) ** 2\n",
        "    elif loss_name == 'RMSE':\n",
        "        return math.sqrt((predict - target) ** 2)\n",
        "\n",
        "num_samples_str = input(\"Nhập số lượng sample: \")\n",
        "\n",
        "if not num_samples_str.isnumeric():\n",
        "    print(\"SỐ LƯỢNG SAMPLES PHẢI LÀ 1 STN\")\n",
        "else:\n",
        "    num_samples = int(num_samples_str)\n",
        "\n",
        "    loss_name = input(\"Nhập loss name (MAE, MSE, RMSE): \")\n",
        "\n",
        "    for i in range(num_samples):\n",
        "        predict = random.uniform(0, 10)\n",
        "        target = random.uniform(0, 10)\n",
        "\n",
        "        loss = calculate_loss(predict, target, loss_name)\n",
        "\n",
        "        print(f\"Loss name: {loss_name}, Sample: {i + 1}, Predict: {predict}, Target: {target}, Loss: {loss}\")"
      ],
      "metadata": {
        "id": "3adu_4ZkJrLC"
      },
      "execution_count": null,
      "outputs": []
    },
    {
      "cell_type": "markdown",
      "source": [
        "# BÀI TẬP 5"
      ],
      "metadata": {
        "id": "S_eg3fOjPpP8"
      }
    },
    {
      "cell_type": "code",
      "source": [
        "def pascals_triangle(n):\n",
        "    triangle = []\n",
        "\n",
        "    for i in range(n):\n",
        "        row = [1]\n",
        "        if triangle:\n",
        "            last_row = triangle[-1]\n",
        "            row.extend([sum(pair) for pair in zip(last_row, last_row[1:])])\n",
        "            row.append(1)\n",
        "        triangle.append(row)\n",
        "\n",
        "    return triangle\n",
        "\n",
        "def fibonacci_sequence(n):\n",
        "    sequence = []\n",
        "    a, b = 0, 1\n",
        "    for _ in range(n):\n",
        "        sequence.append(a)\n",
        "        a, b = b, a + b\n",
        "\n",
        "    return sequence\n",
        "\n",
        "n = int(input(\"Nhập số n: \"))\n",
        "\n",
        "triangle = pascals_triangle(n)\n",
        "print(\"Pascal's Triangle:\")\n",
        "for row in triangle:\n",
        "    print(row)\n",
        "\n",
        "sequence = fibonacci_sequence(n)\n",
        "print(\"Fibonacci Sequence:\")\n",
        "print(sequence)"
      ],
      "metadata": {
        "id": "AQtnAnTXMrIp"
      },
      "execution_count": null,
      "outputs": []
    },
    {
      "cell_type": "markdown",
      "source": [
        "# BÀI TẬP 6"
      ],
      "metadata": {
        "id": "CT5HklpfQGHZ"
      }
    },
    {
      "cell_type": "code",
      "source": [
        "def factorial(n):\n",
        "    if n == 0 or n == 1:\n",
        "        return 1\n",
        "    return n * factorial(n - 1)\n",
        "\n",
        "def taylor_series_sin(x, n_terms):\n",
        "    sin_x = 0\n",
        "    for i in range(n_terms):\n",
        "        term = ((-1) ** i) * (x ** (2 * i + 1)) / factorial(2 * i + 1)\n",
        "        sin_x += term\n",
        "    return sin_x\n",
        "\n",
        "def taylor_series_cos(x, n_terms):\n",
        "    cos_x = 0\n",
        "    for i in range(n_terms):\n",
        "        term = ((-1) ** i) * (x ** (2 * i)) / factorial(2 * i)\n",
        "        cos_x += term\n",
        "    return cos_x\n",
        "\n",
        "def taylor_series_tan(x, n_terms):\n",
        "    sin_x = taylor_series_sin(x, n_terms)\n",
        "    cos_x = taylor_series_cos(x, n_terms)\n",
        "    return sin_x / cos_x\n",
        "\n",
        "def taylor_series_cot(x, n_terms):\n",
        "    return 1 / taylor_series_tan(x, n_terms)\n",
        "\n",
        "def taylor_series_sinh(x, n_terms):\n",
        "    sinh_x = 0\n",
        "    for i in range(n_terms):\n",
        "        term = (x ** (2 * i + 1)) / factorial(2 * i + 1)\n",
        "        sinh_x += term\n",
        "    return sinh_x\n",
        "\n",
        "def taylor_series_cosh(x, n_terms):\n",
        "    cosh_x = 0\n",
        "    for i in range(n_terms):\n",
        "        term = (x ** (2 * i)) / factorial(2 * i)\n",
        "        cosh_x += term\n",
        "    return cosh_x\n",
        "\n",
        "def taylor_series_tanh(x, n_terms):\n",
        "    sinh_x = taylor_series_sinh(x, n_terms)\n",
        "    cosh_x = taylor_series_cosh(x, n_terms)\n",
        "    return sinh_x / cosh_x\n",
        "\n",
        "def taylor_series_coth(x, n_terms):\n",
        "    return 1 / taylor_series_tanh(x, n_terms)\n",
        "\n",
        "# Nhập giá trị x và số lượng hạng n từ bàn phím\n",
        "x = float(input(\"Nhập giá trị x: \"))\n",
        "n_terms = int(input(\"Nhập số lượng hạng n: \"))\n",
        "\n",
        "# Tính và in ra kết quả các hàm lượng giác\n",
        "print(f\"SIN({x}) = {taylor_series_sin(x, n_terms)}\")\n",
        "print(f\"COS({x}) = {taylor_series_cos(x, n_terms)}\")\n",
        "print(f\"TAN({x}) = {taylor_series_tan(x, n_terms)}\")\n",
        "print(f\"COTG({x}) = {taylor_series_cot(x, n_terms)}\")\n",
        "print(f\"SINH({x}) = {taylor_series_sinh(x, n_terms)}\")\n",
        "print(f\"COSH({x}) = {taylor_series_cosh(x, n_terms)}\")\n",
        "print(f\"TANH({x}) = {taylor_series_tanh(x, n_terms)}\")\n",
        "print(f\"COTGH({x}) = {taylor_series_coth(x, n_terms)}\")"
      ],
      "metadata": {
        "colab": {
          "base_uri": "https://localhost:8080/"
        },
        "id": "cQ4eSS6YQF1r",
        "outputId": "3739ec58-d58a-4ae6-d42d-4ac2557f470b"
      },
      "execution_count": null,
      "outputs": [
        {
          "output_type": "stream",
          "name": "stdout",
          "text": [
            "Nhập giá trị x: 45\n",
            "Nhập số lượng hạng n: 20\n",
            "SIN(45.0) = -8.295010994648307e+17\n",
            "COS(45.0) = -7.353080963851912e+17\n",
            "TAN(45.0) = 1.1281000488675383\n",
            "COTG(45.0) = 0.8864461986362525\n",
            "SINH(45.0) = 4.0299386340373576e+18\n",
            "COSH(45.0) = 3.249728350433316e+18\n",
            "TANH(45.0) = 1.2400847700085482\n",
            "COTGH(45.0) = 0.8063964852927811\n"
          ]
        }
      ]
    },
    {
      "cell_type": "markdown",
      "source": [
        "# BÀI TẬP 7"
      ],
      "metadata": {
        "id": "zpCgzH6gSgT0"
      }
    },
    {
      "cell_type": "code",
      "source": [
        "def reverse_integer(number):\n",
        "    reversed_number = int(str(number)[::-1])\n",
        "    return reversed_number\n",
        "\n",
        "# Nhập số nguyên dương từ bàn phím\n",
        "number = int(input(\"Nhập số nguyên dương: \"))\n",
        "\n",
        "# Đảo ngược và in ra kết quả\n",
        "reversed_number = reverse_integer(number)\n",
        "print(f\"Số đảo ngược của {number} là: {reversed_number}\")"
      ],
      "metadata": {
        "colab": {
          "base_uri": "https://localhost:8080/"
        },
        "id": "OIR-9_IeSNgr",
        "outputId": "a52b477e-0913-4134-833f-ac233a478ad6"
      },
      "execution_count": null,
      "outputs": [
        {
          "output_type": "stream",
          "name": "stdout",
          "text": [
            "Nhập số nguyên dương: 96320\n",
            "Số đảo ngược của 96320 là: 2369\n"
          ]
        }
      ]
    },
    {
      "cell_type": "markdown",
      "source": [
        "\n",
        "\n",
        "---\n",
        "\n"
      ],
      "metadata": {
        "id": "K7wCEVZjGxAZ"
      }
    },
    {
      "cell_type": "markdown",
      "source": [
        "# TUẦN 2"
      ],
      "metadata": {
        "id": "FxR1nycDGyCY"
      }
    },
    {
      "cell_type": "markdown",
      "source": [
        "## VẤN ĐỀ 1"
      ],
      "metadata": {
        "id": "QOI6sT_6G0rg"
      }
    },
    {
      "cell_type": "code",
      "source": [
        "def sliding_window_max(lst, k):\n",
        "    n = len(lst)\n",
        "    result = []\n",
        "    for i in range(n - k + 1):\n",
        "        sublist = lst[i:i+k]\n",
        "        result.append(max(sublist))\n",
        "    return result\n",
        "\n",
        "# Nhập dữ liệu từ bàn phím\n",
        "num_list = list(map(int, input(\"Nhập các số nguyên, cách nhau bằng dấu cách: \").split()))\n",
        "k = int(input(\"Nhập kích thước của sliding window: \"))\n",
        "\n",
        "# In kết quả\n",
        "print(sliding_window_max(num_list, k))"
      ],
      "metadata": {
        "colab": {
          "base_uri": "https://localhost:8080/"
        },
        "id": "RnhB-x4OG4Dl",
        "outputId": "83091df3-f77b-4dc0-d70c-4ec2da2d5eb0"
      },
      "execution_count": null,
      "outputs": [
        {
          "output_type": "stream",
          "name": "stdout",
          "text": [
            "Nhập các số nguyên, cách nhau bằng dấu cách: 13 26 39 1 -1 -98 100\n",
            "Nhập kích thước của sliding window: 4\n",
            "[39, 39, 39, 100]\n"
          ]
        }
      ]
    },
    {
      "cell_type": "markdown",
      "source": [
        "## VẤN ĐỀ 2"
      ],
      "metadata": {
        "id": "afJVaYqNJelP"
      }
    },
    {
      "cell_type": "code",
      "source": [
        "def intersection(lst1, lst2):\n",
        "    # Chuyển đổi cả hai danh sách thành tập hợp\n",
        "    set1 = set(lst1)\n",
        "    set2 = set(lst2)\n",
        "    \n",
        "    # Sử dụng toán tử & để lấy giao giữa hai tập hợp\n",
        "    result = list(set1 & set2)\n",
        "    \n",
        "    return result\n",
        "\n",
        "# Nhập dữ liệu từ bàn phím\n",
        "num_list1 = list(map(int, input(\"Nhập các số nguyên cho list thứ nhất, cách nhau bằng dấu cách: \").split()))\n",
        "num_list2 = list(map(int, input(\"Nhập các số nguyên cho list thứ hai, cách nhau bằng dấu cách: \").split()))\n",
        "\n",
        "# In kết quả\n",
        "print(intersection(num_list1, num_list2))\n",
        "\n",
        "def intersection(lst1, lst2):\n",
        "    index_received = []\n",
        "    result = []\n",
        "    for i in range(len(lst1)):\n",
        "        for j in range(len(lst2)):\n",
        "            if lst1[i] == lst2[j] and j not in index_received:\n",
        "                result.append(lst1[i])\n",
        "                index_received.append(j)\n",
        "                break\n",
        "    return result\n",
        "\n",
        "# Nhập dữ liệu từ bàn phím\n",
        "num_list1 = list(map(int, input(\"Nhập các số nguyên cho list thứ nhất, cách nhau bằng dấu cách: \").split()))\n",
        "num_list2 = list(map(int, input(\"Nhập các số nguyên cho list thứ hai, cách nhau bằng dấu cách: \").split()))\n",
        "\n",
        "# In kết quả\n",
        "print(intersection(num_list1, num_list2))"
      ],
      "metadata": {
        "colab": {
          "base_uri": "https://localhost:8080/"
        },
        "id": "qG_m5swCJiKY",
        "outputId": "44997b58-b2bc-49b4-bbd9-d71051d2679a"
      },
      "execution_count": null,
      "outputs": [
        {
          "output_type": "stream",
          "name": "stdout",
          "text": [
            "Nhập các số nguyên cho list thứ nhất, cách nhau bằng dấu cách: 12 24 36 48 74\n",
            "Nhập các số nguyên cho list thứ hai, cách nhau bằng dấu cách: -1 12 36 -98 74\n",
            "[74, 36, 12]\n",
            "Nhập các số nguyên cho list thứ nhất, cách nhau bằng dấu cách: 14 28 42 58\n",
            "Nhập các số nguyên cho list thứ hai, cách nhau bằng dấu cách: -1 14 58 69\n",
            "[14, 58]\n"
          ]
        }
      ]
    },
    {
      "cell_type": "markdown",
      "source": [
        "## BÀI TẬP 1"
      ],
      "metadata": {
        "id": "23Ohmf5wKOtG"
      }
    },
    {
      "cell_type": "markdown",
      "source": [
        "### ĐẾM SL CHỮ CƠ BẢN"
      ],
      "metadata": {
        "id": "XhluAtvTMQGr"
      }
    },
    {
      "cell_type": "code",
      "source": [
        "def count_letters(word):\n",
        "    count_dict = {}\n",
        "    for letter in word.lower():\n",
        "        if letter in count_dict:\n",
        "            count_dict[letter] += 1\n",
        "        else:\n",
        "            count_dict[letter] = 1\n",
        "    return count_dict\n",
        "\n",
        "# Nhập dữ liệu từ bàn phím và in kết quả\n",
        "word = input(\"Nhập một từ: \")\n",
        "print(count_letters(word))"
      ],
      "metadata": {
        "colab": {
          "base_uri": "https://localhost:8080/"
        },
        "id": "2IBfjCPKKSgW",
        "outputId": "2d6b0f67-efb5-4dfe-911a-b3bdd3b06a18"
      },
      "execution_count": null,
      "outputs": [
        {
          "output_type": "stream",
          "name": "stdout",
          "text": [
            "Nhập một từ: CON CẶC\n",
            "{'c': 3, 'o': 1, 'n': 1, ' ': 1, 'ặ': 1}\n"
          ]
        }
      ]
    },
    {
      "cell_type": "markdown",
      "source": [
        "### ĐẾM SL TỪ TRONG FILE VĂN BẢN"
      ],
      "metadata": {
        "id": "IKb8f-X_MYUr"
      }
    },
    {
      "cell_type": "code",
      "source": [
        "from google.colab import files\n",
        "\n",
        "def count_words(file_path):\n",
        "    count_dict = {}\n",
        "    with open(file_path, 'r', encoding='utf-8') as file:\n",
        "        for line in file:\n",
        "            words = line.lower().split()\n",
        "            for word in words:\n",
        "                if word in count_dict:\n",
        "                    count_dict[word] += 1\n",
        "                else:\n",
        "                    count_dict[word] = 1\n",
        "    return count_dict\n",
        "\n",
        "# Tải tệp lên\n",
        "uploaded = files.upload()\n",
        "\n",
        "# Đọc tệp văn bản và đếm số lượng từ\n",
        "for fn in uploaded.keys():\n",
        "  print(f'User uploaded file \"{fn}\" with length {len(uploaded[fn])} bytes')\n",
        "  print(count_words(fn))"
      ],
      "metadata": {
        "colab": {
          "base_uri": "https://localhost:8080/",
          "height": 130
        },
        "id": "OVCNJ8bXMfmD",
        "outputId": "233db287-bc25-420d-d8d7-19b7858677e9"
      },
      "execution_count": null,
      "outputs": [
        {
          "output_type": "display_data",
          "data": {
            "text/plain": [
              "<IPython.core.display.HTML object>"
            ],
            "text/html": [
              "\n",
              "     <input type=\"file\" id=\"files-d72718ec-4926-48ae-903a-90d0a6495033\" name=\"files[]\" multiple disabled\n",
              "        style=\"border:none\" />\n",
              "     <output id=\"result-d72718ec-4926-48ae-903a-90d0a6495033\">\n",
              "      Upload widget is only available when the cell has been executed in the\n",
              "      current browser session. Please rerun this cell to enable.\n",
              "      </output>\n",
              "      <script>// Copyright 2017 Google LLC\n",
              "//\n",
              "// Licensed under the Apache License, Version 2.0 (the \"License\");\n",
              "// you may not use this file except in compliance with the License.\n",
              "// You may obtain a copy of the License at\n",
              "//\n",
              "//      http://www.apache.org/licenses/LICENSE-2.0\n",
              "//\n",
              "// Unless required by applicable law or agreed to in writing, software\n",
              "// distributed under the License is distributed on an \"AS IS\" BASIS,\n",
              "// WITHOUT WARRANTIES OR CONDITIONS OF ANY KIND, either express or implied.\n",
              "// See the License for the specific language governing permissions and\n",
              "// limitations under the License.\n",
              "\n",
              "/**\n",
              " * @fileoverview Helpers for google.colab Python module.\n",
              " */\n",
              "(function(scope) {\n",
              "function span(text, styleAttributes = {}) {\n",
              "  const element = document.createElement('span');\n",
              "  element.textContent = text;\n",
              "  for (const key of Object.keys(styleAttributes)) {\n",
              "    element.style[key] = styleAttributes[key];\n",
              "  }\n",
              "  return element;\n",
              "}\n",
              "\n",
              "// Max number of bytes which will be uploaded at a time.\n",
              "const MAX_PAYLOAD_SIZE = 100 * 1024;\n",
              "\n",
              "function _uploadFiles(inputId, outputId) {\n",
              "  const steps = uploadFilesStep(inputId, outputId);\n",
              "  const outputElement = document.getElementById(outputId);\n",
              "  // Cache steps on the outputElement to make it available for the next call\n",
              "  // to uploadFilesContinue from Python.\n",
              "  outputElement.steps = steps;\n",
              "\n",
              "  return _uploadFilesContinue(outputId);\n",
              "}\n",
              "\n",
              "// This is roughly an async generator (not supported in the browser yet),\n",
              "// where there are multiple asynchronous steps and the Python side is going\n",
              "// to poll for completion of each step.\n",
              "// This uses a Promise to block the python side on completion of each step,\n",
              "// then passes the result of the previous step as the input to the next step.\n",
              "function _uploadFilesContinue(outputId) {\n",
              "  const outputElement = document.getElementById(outputId);\n",
              "  const steps = outputElement.steps;\n",
              "\n",
              "  const next = steps.next(outputElement.lastPromiseValue);\n",
              "  return Promise.resolve(next.value.promise).then((value) => {\n",
              "    // Cache the last promise value to make it available to the next\n",
              "    // step of the generator.\n",
              "    outputElement.lastPromiseValue = value;\n",
              "    return next.value.response;\n",
              "  });\n",
              "}\n",
              "\n",
              "/**\n",
              " * Generator function which is called between each async step of the upload\n",
              " * process.\n",
              " * @param {string} inputId Element ID of the input file picker element.\n",
              " * @param {string} outputId Element ID of the output display.\n",
              " * @return {!Iterable<!Object>} Iterable of next steps.\n",
              " */\n",
              "function* uploadFilesStep(inputId, outputId) {\n",
              "  const inputElement = document.getElementById(inputId);\n",
              "  inputElement.disabled = false;\n",
              "\n",
              "  const outputElement = document.getElementById(outputId);\n",
              "  outputElement.innerHTML = '';\n",
              "\n",
              "  const pickedPromise = new Promise((resolve) => {\n",
              "    inputElement.addEventListener('change', (e) => {\n",
              "      resolve(e.target.files);\n",
              "    });\n",
              "  });\n",
              "\n",
              "  const cancel = document.createElement('button');\n",
              "  inputElement.parentElement.appendChild(cancel);\n",
              "  cancel.textContent = 'Cancel upload';\n",
              "  const cancelPromise = new Promise((resolve) => {\n",
              "    cancel.onclick = () => {\n",
              "      resolve(null);\n",
              "    };\n",
              "  });\n",
              "\n",
              "  // Wait for the user to pick the files.\n",
              "  const files = yield {\n",
              "    promise: Promise.race([pickedPromise, cancelPromise]),\n",
              "    response: {\n",
              "      action: 'starting',\n",
              "    }\n",
              "  };\n",
              "\n",
              "  cancel.remove();\n",
              "\n",
              "  // Disable the input element since further picks are not allowed.\n",
              "  inputElement.disabled = true;\n",
              "\n",
              "  if (!files) {\n",
              "    return {\n",
              "      response: {\n",
              "        action: 'complete',\n",
              "      }\n",
              "    };\n",
              "  }\n",
              "\n",
              "  for (const file of files) {\n",
              "    const li = document.createElement('li');\n",
              "    li.append(span(file.name, {fontWeight: 'bold'}));\n",
              "    li.append(span(\n",
              "        `(${file.type || 'n/a'}) - ${file.size} bytes, ` +\n",
              "        `last modified: ${\n",
              "            file.lastModifiedDate ? file.lastModifiedDate.toLocaleDateString() :\n",
              "                                    'n/a'} - `));\n",
              "    const percent = span('0% done');\n",
              "    li.appendChild(percent);\n",
              "\n",
              "    outputElement.appendChild(li);\n",
              "\n",
              "    const fileDataPromise = new Promise((resolve) => {\n",
              "      const reader = new FileReader();\n",
              "      reader.onload = (e) => {\n",
              "        resolve(e.target.result);\n",
              "      };\n",
              "      reader.readAsArrayBuffer(file);\n",
              "    });\n",
              "    // Wait for the data to be ready.\n",
              "    let fileData = yield {\n",
              "      promise: fileDataPromise,\n",
              "      response: {\n",
              "        action: 'continue',\n",
              "      }\n",
              "    };\n",
              "\n",
              "    // Use a chunked sending to avoid message size limits. See b/62115660.\n",
              "    let position = 0;\n",
              "    do {\n",
              "      const length = Math.min(fileData.byteLength - position, MAX_PAYLOAD_SIZE);\n",
              "      const chunk = new Uint8Array(fileData, position, length);\n",
              "      position += length;\n",
              "\n",
              "      const base64 = btoa(String.fromCharCode.apply(null, chunk));\n",
              "      yield {\n",
              "        response: {\n",
              "          action: 'append',\n",
              "          file: file.name,\n",
              "          data: base64,\n",
              "        },\n",
              "      };\n",
              "\n",
              "      let percentDone = fileData.byteLength === 0 ?\n",
              "          100 :\n",
              "          Math.round((position / fileData.byteLength) * 100);\n",
              "      percent.textContent = `${percentDone}% done`;\n",
              "\n",
              "    } while (position < fileData.byteLength);\n",
              "  }\n",
              "\n",
              "  // All done.\n",
              "  yield {\n",
              "    response: {\n",
              "      action: 'complete',\n",
              "    }\n",
              "  };\n",
              "}\n",
              "\n",
              "scope.google = scope.google || {};\n",
              "scope.google.colab = scope.google.colab || {};\n",
              "scope.google.colab._files = {\n",
              "  _uploadFiles,\n",
              "  _uploadFilesContinue,\n",
              "};\n",
              "})(self);\n",
              "</script> "
            ]
          },
          "metadata": {}
        },
        {
          "output_type": "stream",
          "name": "stdout",
          "text": [
            "Saving P1_data.txt to P1_data.txt\n",
            "User uploaded file \"P1_data.txt\" with length 747 bytes\n",
            "{'he': 1, 'who': 3, 'conquers': 1, 'himself': 1, 'is': 3, 'the': 5, 'mightiest': 1, 'warrior': 1, 'try': 2, 'not': 1, 'to': 3, 'become': 2, 'a': 7, 'man': 6, 'of': 4, 'success': 3, 'but': 1, 'rather': 1, 'value': 1, 'one': 4, 'with': 4, 'courage': 1, 'makes': 1, 'majority': 1, 'secret': 1, 'in': 4, 'life': 2, 'for': 3, 'be': 1, 'ready': 1, 'his': 2, 'opportunity': 1, 'when': 2, 'it': 2, 'comes': 2, 'successful': 2, 'will': 2, 'profit': 1, 'from': 1, 'mistakes': 1, 'and': 1, 'again': 1, 'different': 1, 'way': 1, 'can': 3, 'lay': 1, 'firm': 1, 'foundation': 1, 'bricks': 1, 'others': 1, 'have': 1, 'thrown': 1, 'at': 1, 'him': 1, 'usually': 1, 'those': 1, 'are': 1, 'too': 1, 'busy': 1, 'looking': 1, 'we': 3, 'cannot': 1, 'solve': 1, 'problems': 1, 'kind': 1, 'thinking': 1, 'employed': 1, 'came': 1, 'up': 1, 'them': 1, 'just': 2, 'small': 1, 'positive': 1, 'thought': 1, 'morning': 1, 'change': 1, 'your': 1, 'whole': 1, 'day': 1, 'you': 3, 'get': 2, 'everything': 1, 'want': 2, 'if': 1, 'help': 1, 'enough': 1, 'other': 1, 'people': 1, 'what': 1, 'they': 1}\n"
          ]
        }
      ]
    },
    {
      "cell_type": "markdown",
      "source": [
        "\n",
        "\n",
        "---\n",
        "\n"
      ],
      "metadata": {
        "id": "uZqxsFTvcmJa"
      }
    }
  ]
}
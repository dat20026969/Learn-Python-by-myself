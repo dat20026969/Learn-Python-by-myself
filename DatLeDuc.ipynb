{
  "cells": [
    {
      "cell_type": "markdown",
      "metadata": {
        "id": "Gyrfgr_p_iDN"
      },
      "source": [
        "# Tutorial: Xây dựng mạng Neural Network với Tensorflow\n",
        "\n",
        "Trong phần tutorial này, chúng ta sẽ sử dụng kiến thức đã học về mạng Neuron để phân loại hình ảnh trong tập dữ liệu [CIFAR10](https://www.cs.toronto.edu/~kriz/cifar.html). CIFAR-10 là một tập dữ liệu hình ảnh được sử dụng phổ biến trong các lĩnh vực nghiên cứu Machine learning có liên quan hình ảnh. Tập dữ liệu này gồm gồm 10 lớp vật thể khác nhau với 6000 hình ảnh cho mỗi lớp. \n",
        "\n",
        "<div style=\"margin-left: auto;margin-right: auto;width: 40%\"><img src=\"./imgs/cifar10.png\" /></div>\n",
        "<div style=\"text-align:center\">Mẫu dữ liệu từ tập CIFAR10</div>\n",
        "\n",
        "Công cụ được sử dụng để xây dựng các mô hình là thư viện **Tensorflow**."
      ]
    },
    {
      "cell_type": "markdown",
      "metadata": {
        "id": "4Tsi_S8g_iDS"
      },
      "source": [
        "#### Giới thiệu  \n",
        "\n",
        "Sử dụng thư viện **Tensorflow**, chúng ta sẽ lần lượt xây dựng một quy trình (pipeline) đơn giản trong bài toán Máy học:  \n",
        "1. Nhập dữ liệu\n",
        "2. Tiền xử lý dữ liệu\n",
        "3. Xây dựng mô hình\n",
        "4. Huấn luyện mô hình\n",
        "5. Đánh giá mô hình\n",
        "\n",
        "Bạn có thể tham khảo lại bài giảng trước đó để nắm vững các nội dung này. Ngoài ra, các bạn có thể đặt câu hỏi cho đội ngũ giảng viên nếu có bất kì thắc mắc."
      ]
    },
    {
      "cell_type": "markdown",
      "metadata": {
        "id": "Xpv6pKug_iDT"
      },
      "source": [
        "#### 0. Nhập thư viện"
      ]
    },
    {
      "cell_type": "code",
      "execution_count": null,
      "metadata": {
        "id": "Jp3SOeeNV4Z1"
      },
      "outputs": [],
      "source": [
        "import tensorflow as tf\n",
        "import numpy as np\n",
        "from matplotlib import pyplot as plt"
      ]
    },
    {
      "cell_type": "markdown",
      "metadata": {
        "id": "xAFL7wH3_iDV"
      },
      "source": [
        "#### 1. Nhập dữ liệu"
      ]
    },
    {
      "cell_type": "code",
      "execution_count": null,
      "metadata": {
        "colab": {
          "base_uri": "https://localhost:8080/"
        },
        "id": "m0WTvJ6QaoIa",
        "outputId": "1880c7f1-0b45-4068-a2bf-a7c0a2b8a752"
      },
      "outputs": [
        {
          "output_type": "stream",
          "name": "stdout",
          "text": [
            "Downloading data from https://www.cs.toronto.edu/~kriz/cifar-10-python.tar.gz\n",
            "170498071/170498071 [==============================] - 13s 0us/step\n",
            "training data shape: (50000, 32, 32, 3) (50000, 1)\n",
            "testing data shape: (10000, 32, 32, 3) (10000, 1)\n"
          ]
        }
      ],
      "source": [
        "\"\"\" \n",
        "Sử dụng hàm có sẵn trong thư viện tensoflow (tf.keras.datasets.cifar10.load_data()), ta dễ dàng nhập (load) các tập dữ liệu sẵn có.\n",
        "Tham khảo thêm các tập dữ liệu sẵn có ở: https://www.tensorflow.org/api_docs/python/tf/keras/datasets\n",
        "\n",
        "tf.keras.datasets.cifar10.load_data() là API được cài đặt để download dataset cifar 10. \n",
        "API này sẽ trả về cặp dữ liệu train và dữ liệu test.\n",
        "Dữ liệu train và test gồm ảnh và label tương ứng. dữ liệu train có 50000 ảnh, dữ liệu test có 10000 ảnh.\n",
        "Mỗi ảnh được biểu diễn bằng 1 tensor 32 x 32 x 3 (có 32x32 = 1024 pixel, mỗi pixel có 3 kênh màu đỏ, xanh và xanh lá).\n",
        "\n",
        "Vậy ảnh dữ liệu train được biểu diễn bằng tensor 50000x32x32x3 và label train được biểu diễn bằng tensor 50000x1.\n",
        "Anh dữ liệu test được biểu diễn bằng tensor 10000x32x32x3 và label train được biểu diễn bằng tensor 10000x1.\n",
        "\n",
        "\"\"\" \n",
        "(x_train, y_train), (x_test, y_test) = tf.keras.datasets.cifar10.load_data()\n",
        "\n",
        "# Một số thông số của tập dữ liệu\n",
        "print('training data shape:', x_train.shape, y_train.shape)\n",
        "print('testing data shape:', x_test.shape, y_test.shape)"
      ]
    },
    {
      "cell_type": "markdown",
      "metadata": {
        "id": "xBv3k3Cd_iDW"
      },
      "source": [
        "Ví dụ: Một hình ảnh (điểm dữ liệu) được biểu diễn ở dạng pixel"
      ]
    },
    {
      "cell_type": "code",
      "execution_count": null,
      "metadata": {
        "colab": {
          "base_uri": "https://localhost:8080/"
        },
        "id": "JNsMINFs_iDX",
        "outputId": "448ed373-baf9-4e3a-aa2a-d8b0bcfb09f4"
      },
      "outputs": [
        {
          "output_type": "stream",
          "name": "stdout",
          "text": [
            "[[[ 59  62  63]\n",
            "  [ 43  46  45]\n",
            "  [ 50  48  43]\n",
            "  ...\n",
            "  [158 132 108]\n",
            "  [152 125 102]\n",
            "  [148 124 103]]\n",
            "\n",
            " [[ 16  20  20]\n",
            "  [  0   0   0]\n",
            "  [ 18   8   0]\n",
            "  ...\n",
            "  [123  88  55]\n",
            "  [119  83  50]\n",
            "  [122  87  57]]\n",
            "\n",
            " [[ 25  24  21]\n",
            "  [ 16   7   0]\n",
            "  [ 49  27   8]\n",
            "  ...\n",
            "  [118  84  50]\n",
            "  [120  84  50]\n",
            "  [109  73  42]]\n",
            "\n",
            " ...\n",
            "\n",
            " [[208 170  96]\n",
            "  [201 153  34]\n",
            "  [198 161  26]\n",
            "  ...\n",
            "  [160 133  70]\n",
            "  [ 56  31   7]\n",
            "  [ 53  34  20]]\n",
            "\n",
            " [[180 139  96]\n",
            "  [173 123  42]\n",
            "  [186 144  30]\n",
            "  ...\n",
            "  [184 148  94]\n",
            "  [ 97  62  34]\n",
            "  [ 83  53  34]]\n",
            "\n",
            " [[177 144 116]\n",
            "  [168 129  94]\n",
            "  [179 142  87]\n",
            "  ...\n",
            "  [216 184 140]\n",
            "  [151 118  84]\n",
            "  [123  92  72]]]\n"
          ]
        }
      ],
      "source": [
        "image_id = 0\n",
        "print(x_train[image_id, ...])"
      ]
    },
    {
      "cell_type": "markdown",
      "metadata": {
        "id": "6mPyDU-h_iDX"
      },
      "source": [
        "Ví dụ: Hình ảnh được quan sát từ mắt thường một điểm dữ liệu"
      ]
    },
    {
      "cell_type": "code",
      "execution_count": null,
      "metadata": {
        "colab": {
          "base_uri": "https://localhost:8080/",
          "height": 448
        },
        "id": "AiFYMOdy_iDY",
        "outputId": "dee493e7-6a05-4dfd-f204-fe20043d0325"
      },
      "outputs": [
        {
          "output_type": "execute_result",
          "data": {
            "text/plain": [
              "<matplotlib.image.AxesImage at 0x7f1bf88b3bb0>"
            ]
          },
          "metadata": {},
          "execution_count": 4
        },
        {
          "output_type": "display_data",
          "data": {
            "text/plain": [
              "<Figure size 640x480 with 1 Axes>"
            ],
            "image/png": "[encoded data removed]"
          },
          "metadata": {}
        }
      ],
      "source": [
        "# Một hình ảnh ví dụ từ tập dữ liệu. Thay giá trị `image_id` để xem một tập ảnh khác!\n",
        "image_id = 0 \n",
        "plt.imshow(x_train[image_id, ...])"
      ]
    },
    {
      "cell_type": "markdown",
      "metadata": {
        "id": "5-uEYSZp_iDZ"
      },
      "source": [
        "Ví dụ: Nhãn của 10 điểm dữ liệu trong tập x_train"
      ]
    },
    {
      "cell_type": "code",
      "execution_count": null,
      "metadata": {
        "colab": {
          "base_uri": "https://localhost:8080/"
        },
        "id": "t1Pjq26H_iDZ",
        "outputId": "bf95518d-4922-46c3-cd4c-a4a58993e16d"
      },
      "outputs": [
        {
          "output_type": "stream",
          "name": "stdout",
          "text": [
            "[[6]\n",
            " [9]\n",
            " [9]\n",
            " [4]\n",
            " [1]\n",
            " [1]\n",
            " [2]\n",
            " [7]\n",
            " [8]\n",
            " [3]]\n"
          ]
        }
      ],
      "source": [
        "print(y_train[:10])"
      ]
    },
    {
      "cell_type": "markdown",
      "metadata": {
        "id": "avYMOeiw_iDZ"
      },
      "source": [
        "#### 2. Tiền xử lý dữ liệu"
      ]
    },
    {
      "cell_type": "markdown",
      "metadata": {
        "id": "-SmM7BGx_iDa"
      },
      "source": [
        "Định nghĩa các hàm"
      ]
    },
    {
      "cell_type": "code",
      "execution_count": null,
      "metadata": {
        "id": "S8_3pGOfXRr9"
      },
      "outputs": [],
      "source": [
        "# Hàm biến đổi nhãn y từ dạng integer thành dạng one hot \n",
        "def list_to_onehot(x, num_class=10):\n",
        "    onehot = np.zeros([x.shape[0], num_class], dtype=np.float64)\n",
        "    onehot[np.arange(x.shape[0]), x[:, 0].astype(int)] = 1.0\n",
        "    return onehot\n",
        "\n",
        "# Hàm chia dữ liệu train/val theo tỉ lệ rate_train\n",
        "def split_train_val(x, y, rate_train=0.7):\n",
        "    indices = np.arange(x.shape[0])\n",
        "    np.random.shuffle(indices)\n",
        "    i = int(x.shape[0]*rate_train)\n",
        "    return (x[indices[:i]], y[indices[:i]]), (x[indices[i:]], y[indices[i:]])\n",
        "\n",
        "# Hàm normalize dữ liệu hình ảnh đơn giản (255 là giá trị tối đa của 1 pixel)\n",
        "def preprocess_samples(x):\n",
        "    return x / 255."
      ]
    },
    {
      "cell_type": "markdown",
      "metadata": {
        "id": "NMWWNdwB_iDa"
      },
      "source": [
        "Thực hiện tiền xử lý dữ liệu"
      ]
    },
    {
      "cell_type": "code",
      "execution_count": null,
      "metadata": {
        "id": "zDsptofy_iDb"
      },
      "outputs": [],
      "source": [
        "# Chia tập dữ liệu huấn luyện thành tập train/val\n",
        "(x_train, y_train), (x_val, y_val) =  split_train_val(x_train, y_train)\n",
        "\n",
        "\n",
        "# Normalize dữ liệu\n",
        "x_train = preprocess_samples(x_train)\n",
        "x_val = preprocess_samples(x_val)\n",
        "x_test = preprocess_samples(x_test)\n",
        "\n",
        "\n",
        "# Chuyển sang dạng one-hot\n",
        "y_train = list_to_onehot(y_train)\n",
        "y_val = list_to_onehot(y_val)\n",
        "y_test = list_to_onehot(y_test)"
      ]
    },
    {
      "cell_type": "markdown",
      "metadata": {
        "id": "dI0UHRFL_iDb"
      },
      "source": [
        "Ví dụ: Nhãn của 10 điểm dữ liệu sau khi chuyển sang dạng one-hot vector"
      ]
    },
    {
      "cell_type": "code",
      "execution_count": null,
      "metadata": {
        "colab": {
          "base_uri": "https://localhost:8080/"
        },
        "id": "k5HkRB5N_iDb",
        "outputId": "54a3ec31-59e5-436d-b9f4-b3cf03a989d3"
      },
      "outputs": [
        {
          "output_type": "stream",
          "name": "stdout",
          "text": [
            "[0. 0. 0. 0. 0. 0. 0. 0. 1. 0.]\n",
            "[0. 0. 0. 0. 0. 0. 0. 1. 0. 0.]\n",
            "[0. 0. 0. 0. 0. 0. 0. 0. 0. 1.]\n",
            "[0. 0. 0. 0. 0. 0. 0. 0. 1. 0.]\n",
            "[0. 0. 0. 0. 0. 0. 0. 1. 0. 0.]\n",
            "[0. 0. 0. 0. 0. 0. 1. 0. 0. 0.]\n",
            "[0. 0. 0. 0. 0. 0. 0. 0. 0. 1.]\n",
            "[0. 0. 0. 1. 0. 0. 0. 0. 0. 0.]\n",
            "[0. 0. 0. 0. 0. 0. 0. 1. 0. 0.]\n",
            "[0. 0. 0. 0. 0. 0. 0. 1. 0. 0.]\n"
          ]
        }
      ],
      "source": [
        "for it in y_train[:10]:\n",
        "    print(it)"
      ]
    },
    {
      "cell_type": "markdown",
      "metadata": {
        "id": "ku7dz4-h_iDb"
      },
      "source": [
        "#### 3. Xây dựng mô hình"
      ]
    },
    {
      "cell_type": "markdown",
      "metadata": {
        "id": "l3r7wXgJ3e5T"
      },
      "source": [
        "Dưới đây là một ví dụ về việc tạo ra một Convolutional Neural Network dựa trên kiến trúc của ResNet50 (một CNN nổi tiếng và được áp dụng rộng rãi), trong đó, giữ nguyên kiến trúc ResNet50 và thay thế  layer cuối với 1000 classes thành layer mới với 10 classes (CIFAR-10).\n",
        "\n",
        "tf.keras.applications.ResNet50(include_top=False, weights=None, input_tensor=None, input_shape=(32, 32, 3), pooling=None, classes=10)) là API sẽ trả về model resnet50.\n",
        "API này có các tham số là:\n",
        "- include_top: True hoặc False: nếu là True API sẽ trả về model bao gồm phần fully-connected layer đã được huấn luyện. Nếu là False sẽ chỉ trả về phần backbone.\n",
        "- weights: Nếu là None sẽ trả về model chưa được huấn luyện. Là 'imagenet' sẽ trả về model đã được train trên tập dữ liệu imagenet. Nếu là đường dẫn sẽ trả về model được load weight theo đường dẫn đó (đường dẫn cần chứa bộ weight đúng cấu trúc resnet50.\n",
        "- input_tensor: là keras tensor được dùng như input của model (các bạn không cần quan tâm tham số này).\n",
        "- input_shape: shape của input. Chỉ dùng khi include_top = False.\n",
        "- pooling: Chỉ dùng khi include_top = False. Là 'None' nếu không muốn thay đổi output của resnet50. Là 'avg' nếu muốn áp dụng global average pooling lên output của resnet50. Là 'max' nếu muốn áp dụng global max pooling lên output của resnet50.\n",
        "- classes: Số classes cần phân loại.\n",
        "\n",
        "Ở đây ta sẽ khai báo mô hình resnet50 không sử dụng weights train trước (weights = None), không bao gồm phần fully_connected layer (include_top = False). Input_shape = (32, 32, 3) là chiều của ảnh input. \n",
        "\n",
        "Output của resnet50 là 1 tensor 4 chiều. Để chuyển nó thành ma trận 2 chiều ta thêm vào mô hình layer tf.keras.layers.Flatten() để làm phẳng tensor 4 chiều thành 2 chiều.\n",
        "\n",
        "Sau đó thêm vào model layer tf.keras.layers.Dense và tf.keras.layers.Softmax() để output ra xác suất tấm ảnh thuộc class nào."
      ]
    },
    {
      "cell_type": "code",
      "execution_count": null,
      "metadata": {
        "id": "jpCwrf73bM2b"
      },
      "outputs": [],
      "source": [
        "def create_model_resnet50():\n",
        "    # khai báo biến model sequential \n",
        "    model = tf.keras.models.Sequential(name='my-restnet50')        \n",
        "    \n",
        "    # thêm khối kiến trúc ResNet50 vào từ thư viện TF\n",
        "    model.add(tf.keras.applications.ResNet50(                       \n",
        "      include_top=False, weights=None,\n",
        "      input_tensor=None, \n",
        "      input_shape=(32, 32, 3),\n",
        "      pooling=None, classes=10))\n",
        "    \n",
        "    # vector hóa output của mạng ResNet50 (trước đó là tensor đa chiều)\n",
        "    model.add(tf.keras.layers.Flatten())\n",
        "    \n",
        "    # thêm dense layer (fully-connected layer) với 10 classes\n",
        "    model.add(tf.keras.layers.Dense(10, activation='sigmoid'))\n",
        "    \n",
        "    # thêm softmax layer\n",
        "    model.add(tf.keras.layers.Softmax())                            \n",
        "    return model"
      ]
    },
    {
      "cell_type": "markdown",
      "metadata": {
        "id": "MjXXA3PK67uT"
      },
      "source": [
        "Dựa vào hàm **create_model_resnet50** ở trên, bạn có thể tự xây dựng hàm tạo các mô hình khác.  \n",
        "Chi tiết thông tin về các mô hình có trong thư viện tf.keras bạn tham khảo ở [các CNN hiện đại trong thư viện TF](https://www.tensorflow.org/api_docs/python/tf/keras/applications)\n"
      ]
    },
    {
      "cell_type": "markdown",
      "metadata": {
        "id": "h0zs5tXS_iDd"
      },
      "source": [
        "#### 4. Huấn luyện mô hình"
      ]
    },
    {
      "cell_type": "markdown",
      "metadata": {
        "id": "m6g67hbZ8eJg"
      },
      "source": [
        "Ở Lần các bước tiếp theo, ta lượt gọi 1 trong 3 hàm tạo mô hình ở trên để:\n",
        "\n",
        "\n",
        "a.   Tạo ra mô hình CNN tương ứng  \n",
        "b.   Huấn luyện mô hình, train 8 epochs (lưu ý chạy trên GPU)  \n",
        "c.   Tính độ chính xác trên tập test  \n",
        "d.   Lưu kết quả để so sánh  \n",
        "\n"
      ]
    },
    {
      "cell_type": "code",
      "execution_count": null,
      "metadata": {
        "id": "YMrMdthj8eoE"
      },
      "outputs": [],
      "source": [
        "# a. Gọi hàm để tạo ra một kiến trúc CNN (chẳng hạn kiến trúc ResNet50)\n",
        "model = create_model_resnet50() "
      ]
    },
    {
      "cell_type": "code",
      "execution_count": null,
      "metadata": {
        "colab": {
          "base_uri": "https://localhost:8080/"
        },
        "id": "IeCTJDpM5kFZ",
        "outputId": "50b49fa3-fb47-4b5a-fc7a-7307cb07a36d"
      },
      "outputs": [
        {
          "output_type": "stream",
          "name": "stdout",
          "text": [
            "Model: \"my-restnet50\"\n",
            "_________________________________________________________________\n",
            " Layer (type)                Output Shape              Param #   \n",
            "=================================================================\n",
            " resnet50 (Functional)       (None, 1, 1, 2048)        23587712  \n",
            "                                                                 \n",
            " flatten (Flatten)           (None, 2048)              0         \n",
            "                                                                 \n",
            " dense (Dense)               (None, 10)                20490     \n",
            "                                                                 \n",
            " softmax (Softmax)           (None, 10)                0         \n",
            "                                                                 \n",
            "=================================================================\n",
            "Total params: 23,608,202\n",
            "Trainable params: 23,555,082\n",
            "Non-trainable params: 53,120\n",
            "_________________________________________________________________\n"
          ]
        }
      ],
      "source": [
        "# b.1. Xác định hàm mất mát, hàm tối ưu và tiêu chí đánh giá tập Validation\n",
        "model.summary()\n",
        "model.compile(loss=tf.keras.losses.CategoricalCrossentropy(), # hàm mất mát\n",
        "              optimizer=tf.keras.optimizers.Adam(), # hàm tối ưu\n",
        "              metrics=['accuracy']) # tiêu chí đánh giá"
      ]
    },
    {
      "cell_type": "code",
      "execution_count": null,
      "metadata": {
        "colab": {
          "base_uri": "https://localhost:8080/"
        },
        "id": "tfE1N5ojcb7-",
        "outputId": "13ada71d-d648-402a-eb37-609cd078d3f0"
      },
      "outputs": [
        {
          "output_type": "stream",
          "name": "stdout",
          "text": [
            "Epoch 1/20\n",
            "274/274 [==============================] - 70s 75ms/step - loss: 2.0859 - accuracy: 0.2177 - val_loss: 2.4094 - val_accuracy: 0.0963\n",
            "Epoch 2/20\n",
            "274/274 [==============================] - 17s 62ms/step - loss: 2.0861 - accuracy: 0.2094 - val_loss: 2.2043 - val_accuracy: 0.1756\n",
            "Epoch 3/20\n",
            "274/274 [==============================] - 18s 66ms/step - loss: 2.0596 - accuracy: 0.2151 - val_loss: 2.3326 - val_accuracy: 0.1291\n",
            "Epoch 4/20\n",
            "274/274 [==============================] - 17s 63ms/step - loss: 2.0769 - accuracy: 0.2100 - val_loss: 2.3369 - val_accuracy: 0.1351\n",
            "Epoch 5/20\n",
            "274/274 [==============================] - 18s 67ms/step - loss: 2.0770 - accuracy: 0.2071 - val_loss: 2.1657 - val_accuracy: 0.1455\n",
            "Epoch 6/20\n",
            "274/274 [==============================] - 18s 67ms/step - loss: 2.1134 - accuracy: 0.1856 - val_loss: 2.3280 - val_accuracy: 0.1212\n",
            "Epoch 7/20\n",
            "274/274 [==============================] - 18s 64ms/step - loss: 2.1084 - accuracy: 0.1967 - val_loss: 2.0710 - val_accuracy: 0.2002\n",
            "Epoch 8/20\n",
            "274/274 [==============================] - 17s 64ms/step - loss: 2.0798 - accuracy: 0.2049 - val_loss: 2.0745 - val_accuracy: 0.1993\n",
            "Epoch 9/20\n",
            "274/274 [==============================] - 19s 68ms/step - loss: 2.0566 - accuracy: 0.2086 - val_loss: 2.3933 - val_accuracy: 0.1041\n",
            "Epoch 10/20\n",
            "274/274 [==============================] - 18s 64ms/step - loss: 2.0505 - accuracy: 0.2026 - val_loss: 2.1007 - val_accuracy: 0.2045\n",
            "Epoch 11/20\n",
            "274/274 [==============================] - 19s 68ms/step - loss: 2.0637 - accuracy: 0.2065 - val_loss: 2.3278 - val_accuracy: 0.1206\n",
            "Epoch 12/20\n",
            "274/274 [==============================] - 18s 64ms/step - loss: 2.0546 - accuracy: 0.2093 - val_loss: 2.1277 - val_accuracy: 0.1732\n",
            "Epoch 13/20\n",
            "274/274 [==============================] - 18s 65ms/step - loss: 2.0365 - accuracy: 0.2211 - val_loss: 2.1514 - val_accuracy: 0.1805\n",
            "Epoch 14/20\n",
            "274/274 [==============================] - 18s 67ms/step - loss: 2.0476 - accuracy: 0.2124 - val_loss: 2.0827 - val_accuracy: 0.2020\n",
            "Epoch 15/20\n",
            "274/274 [==============================] - 19s 68ms/step - loss: 2.0462 - accuracy: 0.2017 - val_loss: 2.1558 - val_accuracy: 0.1623\n",
            "Epoch 16/20\n",
            "274/274 [==============================] - 18s 67ms/step - loss: 2.0561 - accuracy: 0.2071 - val_loss: 2.1252 - val_accuracy: 0.1862\n",
            "Epoch 17/20\n",
            "274/274 [==============================] - 19s 68ms/step - loss: 2.0270 - accuracy: 0.2188 - val_loss: 2.1157 - val_accuracy: 0.1709\n",
            "Epoch 18/20\n",
            "274/274 [==============================] - 18s 67ms/step - loss: 2.0412 - accuracy: 0.2179 - val_loss: 2.1862 - val_accuracy: 0.1551\n",
            "Epoch 19/20\n",
            "274/274 [==============================] - 19s 68ms/step - loss: 2.0636 - accuracy: 0.2135 - val_loss: 2.0658 - val_accuracy: 0.1908\n",
            "Epoch 20/20\n",
            "274/274 [==============================] - 18s 64ms/step - loss: 2.0398 - accuracy: 0.2134 - val_loss: 2.1547 - val_accuracy: 0.1736\n"
          ]
        }
      ],
      "source": [
        "# b.2. Huấn luyện mô hình và lưu lịch sử.\n",
        "history = model.fit(x_train,\n",
        "          y_train,\n",
        "          batch_size=128,\n",
        "          epochs=20,\n",
        "          verbose=1,\n",
        "          validation_data=(x_val, y_val))"
      ]
    },
    {
      "cell_type": "markdown",
      "metadata": {
        "id": "-XGOHG1n_iDe"
      },
      "source": [
        "#### 5. Đánh giá mô hình"
      ]
    },
    {
      "cell_type": "code",
      "execution_count": null,
      "metadata": {
        "colab": {
          "base_uri": "https://localhost:8080/"
        },
        "id": "lWAbi-N_f3Q1",
        "outputId": "f022e0ea-8ee5-4ac0-e0b0-76df972decd8"
      },
      "outputs": [
        {
          "output_type": "stream",
          "name": "stdout",
          "text": [
            "313/313 [==============================] - 4s 11ms/step - loss: 2.1490 - accuracy: 0.1848\n"
          ]
        }
      ],
      "source": [
        "# c. Đánh giá một mô hình cụ thể\n",
        "results = model.evaluate(x_test, y_test)"
      ]
    },
    {
      "cell_type": "code",
      "execution_count": null,
      "metadata": {
        "id": "NwGf4NWO_iDf"
      },
      "outputs": [],
      "source": [
        "# d. Lưu kết quả \"accuracy\" của mô hình (nằm ở giá trị results[1] ở bước trước đó)"
      ]
    },
    {
      "cell_type": "markdown",
      "metadata": {
        "id": "I8EDYZXl_iDf"
      },
      "source": [
        "### TODO 1: res_effnet\n",
        "Các bạn hoàn thành việc khởi tạo mô hình `EfficientNet_B7`, huấn luyện và đánh giá."
      ]
    },
    {
      "cell_type": "code",
      "execution_count": null,
      "metadata": {
        "id": "-s5oUSdt_iDf"
      },
      "outputs": [],
      "source": [
        "from tensorflow.keras.applications import EfficientNetB7\n",
        "from tensorflow.keras.models import Sequential\n",
        "from tensorflow.keras.layers import GlobalAveragePooling2D\n",
        "from tensorflow.keras.layers import Dense\n",
        "\n",
        "input_shape = (64, 64, 3)\n",
        "# Khởi tạo mô hình EfficientNetB7\n",
        "effnet = EfficientNetB7(weights='imagenet', include_top=False, input_shape=input_shape)\n",
        "\n",
        "# Thêm lớp Dense ở cuối để phù hợp với số lượng lớp của tập dữ liệu\n",
        "model_effnet = Sequential()\n",
        "model_effnet.add(effnet)\n",
        "model_effnet.add(GlobalAveragePooling2D())\n",
        "num_classes = 10\n",
        "model_effnet.add(Dense(num_classes, activation='softmax'))\n",
        "\n",
        "# Compile mô hình\n",
        "model_effnet.compile(loss='categorical_crossentropy', optimizer='adam', metrics=['accuracy'])\n",
        "\n",
        "# Huấn luyện mô hình\n",
        "model_effnet.fit(x_train, y_train, validation_data=(x_val, y_val), epochs=20, batch_size=128)\n",
        "\n",
        "# Đánh giá mô hình\n",
        "_, res_effnet = model_effnet.evaluate(x_test, y_test)\n"
      ]
    },
    {
      "cell_type": "markdown",
      "source": [
        "### TODO 2: res_mobnet\n",
        "Các bạn hoàn thành việc khởi tạo mô hình `MobileNet_V2`, huấn luyện và đánh giá.\n"
      ],
      "metadata": {
        "id": "iqEcaKl4CkGq"
      }
    },
    {
      "cell_type": "code",
      "execution_count": null,
      "metadata": {
        "id": "MiaOEIIn_iDf"
      },
      "outputs": [],
      "source": [
        "# Import MobileNetV2 model\n",
        "from tensorflow.keras.applications import MobileNetV2\n",
        "\n",
        "input_shape = (64, 64, 3)\n",
        "# Instantiate the model\n",
        "mobnet_model = MobileNetV2(input_shape=input_shape, include_top=False, weights='imagenet')\n",
        "\n",
        "# Add additional layers\n",
        "model = keras.Sequential()\n",
        "model.add(mobnet_model)\n",
        "model.add(keras.layers.Flatten())\n",
        "model.add(keras.layers.Dense(256, activation='relu'))\n",
        "model.add(keras.layers.Dropout(0.5))\n",
        "num_classes = 10\n",
        "model.add(keras.layers.Dense(num_classes, activation='softmax')) # num_classes is the number of your classes\n",
        "\n",
        "# Compile the model\n",
        "model.compile(loss='categorical_crossentropy', optimizer='adam', metrics=['accuracy'])\n",
        "\n",
        "# Train the model\n",
        "history = model.fit(x_train, y_train, epochs=20, validation_data=(x_val, y_val))\n",
        "\n",
        "# Evaluate the model on the test set\n",
        "test_loss, test_acc = model.evaluate(x_test, y_test, verbose=2)\n",
        "res_mobnet = test_acc\n"
      ]
    },
    {
      "cell_type": "markdown",
      "metadata": {
        "id": "O6bRe0GW9jvV"
      },
      "source": [
        "Vẽ biểu đồ so sánh độ chính xác của 3 mô hình."
      ]
    },
    {
      "cell_type": "code",
      "execution_count": null,
      "metadata": {
        "id": "aP-uUtWJ9kCW"
      },
      "outputs": [],
      "source": [
        "model_names = ['ResNet50', 'EfficientNetB7', 'MobileNetV2']\n",
        "'''\n",
        "Cập nhật độ chính xác trên test set vào accuracies, tương ứng thứ tự trong model_names\n",
        "'''\n",
        "accuracies = [0, 0, 0] # thay thế bằng độ chính xác của [res_resnet, res_effnet, res_mobnet]\n",
        "plt.bar(np.arange(len(model_names)), accuracies, align='center', width=0.5, color='green')\n",
        "plt.xticks(np.arange(len(model_names)), model_names, rotation=45)\n",
        "plt.title('Accuracy in test set after 1 epoch')"
      ]
    },
    {
      "cell_type": "markdown",
      "metadata": {
        "id": "OuaRDuv3_iDg"
      },
      "source": [
        "## 🎉 Chúc mừng bạn đã hoàn thành bài tutorial tuần này!"
      ]
    }
  ],
  "metadata": {
    "accelerator": "GPU",
    "colab": {
      "provenance": [],
      "gpuType": "T4"
    },
    "kernelspec": {
      "display_name": "Python 3 (ipykernel)",
      "language": "python",
      "name": "python3"
    },
    "language_info": {
      "codemirror_mode": {
        "name": "ipython",
        "version": 3
      },
      "file_extension": ".py",
      "mimetype": "text/x-python",
      "name": "python",
      "nbconvert_exporter": "python",
      "pygments_lexer": "ipython3",
      "version": "3.9.7"
    },
    "gpuClass": "standard"
  },
  "nbformat": 4,
  "nbformat_minor": 0
}
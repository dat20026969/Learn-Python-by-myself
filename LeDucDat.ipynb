{
  "cells": [
    {
      "cell_type": "markdown",
      "metadata": {
        "id": "DBH6YVjViZbx"
      },
      "source": [
        "## Homework 4: Mô Hình Logistic Regression.\n",
        "### Tổng quan\n",
        "\n",
        "Trong bài tập này, các bạn sẽ sử dụng kiến thức đã học về logistic regression để giải quyết bài toán phân lớp, cụ thể là **phân loại phương tiện giao thông** (xe hơi và xe máy).\n",
        "\n",
        "<div style=\"margin-left: auto;margin-right: auto;width: 60%;\" ><img src=\"./imgs/vehicle_classification.jpg\" /></div>\n",
        "\n",
        " \n",
        "### Mục tiêu học tập\n",
        "\n",
        "* Học cách sử dụng thư viện **Numpy** và **Tensorflow**. \n",
        "* Có thể viết các hàm đơn giản với **Numpy** và **Tensorflow** để giải quyết **bài toán Phân loại**."
      ]
    },
    {
      "cell_type": "markdown",
      "metadata": {
        "id": "hitFu8V0lNsy"
      },
      "source": [
        "### Giới thiệu\n",
        "Để có thể hoàn tấp bài tập này, các bạn cần nắm rõ những kiến thức sau:\n",
        "* Logistic regression và nguyên tắc hoạt động.\n",
        "* Cách lấy đạo hàm cho các tham số trong mô hình trên.\n",
        "* Giải thuật gradient descent.\n",
        "\n",
        "Những thư viện được sử dụng trong bài tập này bao gồm **numpy** và **Tensorflow**.\n",
        "\n",
        "Bạn có thể tham khảo lại bài giảng để nắm vững các nội dung này. Ngoài ra, các bạn có thể đặt câu hỏi cho đội ngũ giảng viên nếu có thắc mắc.\n",
        "\n",
        "*Lưu ý: để tiện cho việc phân biệt giữa lớp python và lớp trong bài toán phân loại, người viết quy ước rằng khi viết **class** nghĩa là đang nói về python class, khi viết **lớp** nghĩa là đang nói đến lớp của dữ liệu cần phân loại."
      ]
    },
    {
      "cell_type": "markdown",
      "metadata": {
        "id": "3V56TgbYmnTb"
      },
      "source": [
        "## Hướng dẫn làm và nộp bài\n",
        "1./ Ở mỗi bài tập, các bạn sẽ được yêu cầu điền phần còn thiếu vào trong hàm. Các cell cần điền sẽ có dòng đầu tiên như sau:\n",
        "```python\n",
        "# GRADED FUNCTION: <tên hàm>\n",
        "...\n",
        "```\n",
        "Trong cell đó, các bạn sẽ code phần đáp án của mình giữa 2 phần:\n",
        "```python\n",
        "### START CODE HERE ###\n",
        "<phần bài làm>\n",
        "### END CODE HERE ###\n",
        "```\n",
        "Sau đó, các bạn trả về giá trị đầu ra của hàm số (nếu có) sau phần `return` (ví du: `return output`, bỏ giá trị **None** đi)\n",
        "\n",
        "2./ Để kiểm tra lỗi nhanh cho hàm bạn vừa viết, thực hiện chạy phần `Sanity check` ở sau mỗi TO_DO.  \n",
        "\n",
        "3./ Tiếp theo, sau khi đã vượt qua Sanity check, bạn chạy file `check_score.py` để kiểm tra điểm mà bạn hiện tại cho phần bài làm của bạn. Nếu không thay đổi tên và vị trí mặc định của file bài tập, bạn có thể gọi dòng lệnh sau từ terminal để nộp bài:\n",
        "```\n",
        "python check_score.py\n",
        "```\n",
        "Nếu bạn đã thay đổi vị trí hoặc tên bài tập. Bạn trỏ đến vị trí của bài tập bằng dòng lệnh sau:\n",
        "```\n",
        "python check_score.py -filepath <PATH_ĐẾN_FILE_.IPYNB_BÀI_LÀM_CỦA_BẠN>\n",
        "```\n",
        "Sau khi chạy dòng lệnh trên, vui lòng điền `username`, bạn sẽ nhận được kết quả trả về cho bài làm của bạn.  \n",
        "\n",
        "**Lưu ý:** Bạn có thể kiểm tra điểm bằng cách chạy file `check_score.py` bao nhiêu lần bạn muốn."
      ]
    },
    {
      "cell_type": "markdown",
      "metadata": {
        "id": "fPHN2c-HiL8h"
      },
      "source": [
        "## Điểm số\n",
        "Điểm tối đa cho bài tập này là **100 điểm**. Mỗi bài tập nhỏ TO_DO_x nếu làm đúng hoàn toàn sẽ được **10 điểm**."
      ]
    },
    {
      "cell_type": "markdown",
      "metadata": {
        "id": "IWlrtGpmiL8i"
      },
      "source": [
        "#### Nhập thư viện"
      ]
    },
    {
      "cell_type": "code",
      "execution_count": null,
      "metadata": {
        "id": "NUTDMX7iiL8i"
      },
      "outputs": [],
      "source": [
        "pip install googledrivedownloader"
      ]
    },
    {
      "cell_type": "code",
      "execution_count": null,
      "metadata": {
        "id": "2_2-XKqbqVZH"
      },
      "outputs": [],
      "source": [
        "# IMPORT\n",
        "import pickle\n",
        "import numpy as np\n",
        "import tensorflow as tf\n",
        "import sys\n",
        "import matplotlib.pyplot as plt\n",
        "import matplotlib.image as mpimg\n",
        "eps = 10e-6"
      ]
    },
    {
      "cell_type": "code",
      "execution_count": null,
      "metadata": {
        "colab": {
          "base_uri": "https://localhost:8080/"
        },
        "id": "X0oUh2V9qkwy",
        "outputId": "91df5d17-bb39-4050-c8ab-d0610c65b503"
      },
      "outputs": [
        {
          "output_type": "stream",
          "name": "stdout",
          "text": [
            "Populating the interactive namespace from numpy and matplotlib\n"
          ]
        }
      ],
      "source": [
        "%pylab inline"
      ]
    },
    {
      "cell_type": "code",
      "execution_count": null,
      "metadata": {
        "colab": {
          "base_uri": "https://localhost:8080/"
        },
        "id": "Kt5Vcxv3quAd",
        "outputId": "d7ffaa02-f936-479f-d9c5-1e7e906bc579"
      },
      "outputs": [
        {
          "output_type": "stream",
          "name": "stdout",
          "text": [
            "Tensorflow version:  2.12.0\n"
          ]
        }
      ],
      "source": [
        "print(\"Tensorflow version: \", tf.__version__)"
      ]
    },
    {
      "cell_type": "markdown",
      "metadata": {
        "id": "BZCOnnIbp9Te"
      },
      "source": [
        "## Tải dữ liệu\n",
        "Các bạn chạy cell bên dưới để tải bộ dữ liệu cũng như các hàm dùng để test cách cài đặt của các bạn:"
      ]
    },
    {
      "cell_type": "code",
      "execution_count": null,
      "metadata": {
        "colab": {
          "base_uri": "https://localhost:8080/"
        },
        "id": "3C-zKu1Tmll0",
        "outputId": "1d9acaf8-0156-4696-e854-2b711c371b97"
      },
      "outputs": [
        {
          "output_type": "stream",
          "name": "stdout",
          "text": [
            "Downloading 115H--hHJ1uBASZmCi80WdfN_YtrP7Dzh into ./assignment2.zip... Done.\n",
            "Unzipping...Done.\n"
          ]
        }
      ],
      "source": [
        "from google_drive_downloader import GoogleDriveDownloader as gdd\n",
        "gdd.download_file_from_google_drive(file_id='115H--hHJ1uBASZmCi80WdfN_YtrP7Dzh', dest_path='./assignment2.zip', unzip=True)\n",
        "!rm assignment2.zip"
      ]
    },
    {
      "cell_type": "markdown",
      "metadata": {
        "id": "AtY6lisEsJAz"
      },
      "source": [
        "Dữ liệu tải xuống của bạn bao gồm:\n",
        "* File `vehicle.data`: dữ liệu cho bài tập\n",
        "* File `logistic_unittest.npy`: được dungf để kiểm tra một số hàm mà bạn cài đặt.\n"
      ]
    },
    {
      "cell_type": "code",
      "execution_count": null,
      "metadata": {
        "colab": {
          "base_uri": "https://localhost:8080/"
        },
        "id": "qPadKNm_lLoW",
        "outputId": "79c4dea4-fc05-4379-a580-0d0441e32c60"
      },
      "outputs": [
        {
          "output_type": "stream",
          "name": "stdout",
          "text": [
            "logistic_unittest.npy  vehicles.dat\n"
          ]
        }
      ],
      "source": [
        "ls assignment2"
      ]
    },
    {
      "cell_type": "markdown",
      "metadata": {
        "id": "hGlQpwFRsmiJ"
      },
      "source": [
        "## Các hàm bổ trợ dùng để đọc dữ liệu\n",
        "Các hàm bổ trợ trong việc đọc dữ liệu đã được định nghĩa sẵn, các bạn **thực hiện chạy** những hàm này mà không cần chỉnh sửa."
      ]
    },
    {
      "cell_type": "code",
      "execution_count": null,
      "metadata": {
        "id": "TkK1HXJxsPHE"
      },
      "outputs": [],
      "source": [
        "\"\"\"\n",
        "These functions help you read data from data files.\n",
        "Author: Kien Huynh\n",
        "\"\"\"\n",
        "\n",
        "\n",
        "def load_npy(file_name):\n",
        "    \"\"\"load_npy\n",
        "    Load numpy data file. This is needed as python 2.7 pickle uses ascii as default encoding method but python 3.x uses utf-8.abs.\n",
        "\n",
        "    :param file_name: npy file path\n",
        "    \n",
        "    :return obj: loaded numpy object\n",
        "    \"\"\"\n",
        "    \n",
        "    if (sys.version_info[0] >= 3):\n",
        "        obj = np.load(file_name, encoding='latin1')\n",
        "    elif (sys.version_info[0] >=2):\n",
        "        obj = np.load(file_name)\n",
        "    \n",
        "    return obj\n",
        "\n",
        "\n",
        "def load_list(file_name):\n",
        "    \"\"\"load_list\n",
        "    Load a list object to file_name.\n",
        "\n",
        "    :param file_name: string, file name\n",
        "    \"\"\"\n",
        "    end_of_file = False\n",
        "    list_obj = [] \n",
        "    f = open(file_name, 'rb')\n",
        "    python_version = sys.version_info[0]\n",
        "    while (not end_of_file):\n",
        "        try:\n",
        "            if (python_version >= 3):\n",
        "                list_obj.append(pickle.load(f, encoding='latin1'))\n",
        "            elif (python_version >=2):\n",
        "                list_obj.append(pickle.load(f))\n",
        "        except EOFError:\n",
        "            end_of_file = True\n",
        "            print(\"EOF Reached\")\n",
        "\n",
        "    f.close()\n",
        "    return list_obj \n",
        "\n",
        "\n",
        "def save_list(list_obj, file_name):\n",
        "    \"\"\"save_list\n",
        "    Save a list object to file_name\n",
        "    \n",
        "    :param list_obj: List of objects to be saved\n",
        "    :param file_name: file name.\n",
        "    \"\"\"\n",
        "\n",
        "    f = open(file_name, 'wb')\n",
        "    for obj in list_obj:\n",
        "        pickle.dump(obj, f, pickle.HIGHEST_PROTOCOL)\n",
        "    f.close() \n",
        "\n",
        "\n",
        "def get_vehicle_data():\n",
        "    \"\"\"\n",
        "    Load vehicle data and return it as a list: [train_x, train_y, test_x, test_y].\n",
        "    \"\"\"\n",
        "    print('Reading vehicle data...')\n",
        "    train_x, train_y, test_x, test_y = load_list('./assignment2/vehicles.dat')\n",
        "    train_x = np.transpose(train_x, (2,0,1))\n",
        "    test_x = np.transpose(test_x, (2,0,1)) \n",
        "\n",
        "    print('Done reading')\n",
        "    return train_x, train_y, test_x, test_y"
      ]
    },
    {
      "cell_type": "markdown",
      "metadata": {
        "id": "G6KQe1EotN5f"
      },
      "source": [
        "## Dữ liệu\n",
        "Tập dữ liệu Vehicles là tập gồm có 2 lớp: xe hơi và xe máy, được gán nhãn lớp 0 (xe hơi) và 1 (xe máy). Ta có thể đọc tập dữ liệu này bằng hàm `get_vehicle_data()`:"
      ]
    },
    {
      "cell_type": "code",
      "execution_count": null,
      "metadata": {
        "colab": {
          "base_uri": "https://localhost:8080/"
        },
        "id": "in8dLecatE8W",
        "outputId": "211b23bb-1946-4cdc-fa10-4e5960b3aad4"
      },
      "outputs": [
        {
          "output_type": "stream",
          "name": "stdout",
          "text": [
            "Reading vehicle data...\n",
            "EOF Reached\n",
            "Done reading\n"
          ]
        }
      ],
      "source": [
        "train_x, train_y, test_x, test_y = get_vehicle_data()\n",
        "num_train = train_x.shape[0]\n",
        "num_test = test_x.shape[0]"
      ]
    },
    {
      "cell_type": "markdown",
      "metadata": {
        "id": "G0FI9Kamtj1D"
      },
      "source": [
        "Ở đây, `train_x` là một numpy tensor có kích thước `2400 × 64 × 64` (ý nghĩa: tập dữ liệu huấn luyện `train_x` có 2400 mẫu, mỗi mẫu là 1 ảnh có chiều cao (height) và rộng (width) bằng 64)."
      ]
    },
    {
      "cell_type": "code",
      "execution_count": null,
      "metadata": {
        "colab": {
          "base_uri": "https://localhost:8080/"
        },
        "id": "yDtBjaM4ti0n",
        "outputId": "7040fcd2-9694-49f9-d35a-675b5f86d28f"
      },
      "outputs": [
        {
          "output_type": "execute_result",
          "data": {
            "text/plain": [
              "(2400, 64, 64)"
            ]
          },
          "metadata": {},
          "execution_count": 9
        }
      ],
      "source": [
        "train_x.shape"
      ]
    },
    {
      "cell_type": "markdown",
      "metadata": {
        "id": "dOqT8XDgtqRq"
      },
      "source": [
        "`train_y` là ma trận chứa nhãn ứng với mẫu dữ liệu trong `train_x`."
      ]
    },
    {
      "cell_type": "code",
      "execution_count": null,
      "metadata": {
        "colab": {
          "base_uri": "https://localhost:8080/"
        },
        "id": "ywBAe70VtgJ9",
        "outputId": "95fbdc98-c64c-46ac-e7c9-ffa3d439bdfd"
      },
      "outputs": [
        {
          "output_type": "execute_result",
          "data": {
            "text/plain": [
              "(2400, 1)"
            ]
          },
          "metadata": {},
          "execution_count": 10
        }
      ],
      "source": [
        "train_y.shape"
      ]
    },
    {
      "cell_type": "markdown",
      "metadata": {
        "id": "b12urMtOuDBL"
      },
      "source": [
        "Tương tự, test_x có kích thước 600 × 64 × 64, mỗi hàng trong test_y biểu diễn cho nhãn của mỗi mẫu trong test_x.\n",
        "\n"
      ]
    },
    {
      "cell_type": "code",
      "execution_count": null,
      "metadata": {
        "colab": {
          "base_uri": "https://localhost:8080/"
        },
        "id": "KvR0_z3_uCps",
        "outputId": "167b16a5-4b0d-4ce5-8ca4-758861f76dd5"
      },
      "outputs": [
        {
          "output_type": "stream",
          "name": "stdout",
          "text": [
            "(600, 64, 64)\n",
            "(600, 1)\n"
          ]
        }
      ],
      "source": [
        "print(test_x.shape)\n",
        "print(test_y.shape)"
      ]
    },
    {
      "cell_type": "markdown",
      "metadata": {
        "id": "UBTGz_AIuIrL"
      },
      "source": [
        "Hai tensor `train_x` và `train_y` được dùng cho việc huấn luyện mô hình phân loại; hai tensor `test_x` và `test_y` được dùng cho quá trình đánh giá (test).\n",
        "\n",
        "Tập dữ liệu này gồm các ảnh xám (gray images), mỗi ảnh chứa một trong hai loại phương tiện di chuyển: xe máy và xe hơi. Mỗi ảnh có thể chứa trọn vẹn hoặc một phần phương tiện. Cần lưu ý là dữ liệu ảnh ở đây chưa được chuẩn hóa, nên các giá trị vẫn nằm trong khoảng từ 0 đến 255."
      ]
    },
    {
      "cell_type": "code",
      "execution_count": null,
      "metadata": {
        "colab": {
          "base_uri": "https://localhost:8080/",
          "height": 432
        },
        "id": "Sn7_eWbptsxU",
        "outputId": "809b9944-a0e7-467b-f7b3-3eb361ebbbae"
      },
      "outputs": [
        {
          "output_type": "display_data",
          "data": {
            "text/plain": [
              "<Figure size 640x480 with 1 Axes>"
            ],
            "image/png": "[encoded data removed]"
          },
          "metadata": {}
        }
      ],
      "source": [
        "imgplot = plt.imshow(train_x[0])\n",
        "plt.show()"
      ]
    },
    {
      "cell_type": "code",
      "execution_count": null,
      "metadata": {
        "colab": {
          "base_uri": "https://localhost:8080/",
          "height": 432
        },
        "id": "biwrg-a9uPLG",
        "outputId": "0862197e-5afc-4e9c-e25a-107218a46984"
      },
      "outputs": [
        {
          "output_type": "display_data",
          "data": {
            "text/plain": [
              "<Figure size 640x480 with 1 Axes>"
            ],
            "image/png": "[encoded data removed]"
          },
          "metadata": {}
        }
      ],
      "source": [
        "imgplot = plt.imshow(train_x[2399])\n",
        "plt.show()"
      ]
    },
    {
      "cell_type": "markdown",
      "metadata": {
        "id": "7ax76O_auWAR"
      },
      "source": [
        "## Chuẩn hóa dữ liệu ảnh\n",
        "Như đã kể trên, ảnh đầu vào có giá trị từ 0 đến 255. Nếu ta đưa trực tiếp bộ ảnh vào quá trình huấn luyện sẽ làm cho gradient lớn. Vì vậy, trước khi huấn luyện, ta có thể sử dụng phương pháp chuẩn hóa dữ liệu để đưa trung bình (mean) của tập train về 0 và độ lệch chuẩn (standard deviation - std) của nó về 1.\n",
        "\n",
        "Đối với việc xử lý hình ảnh, ta có hai cách chuẩn hóa khác nhau:\n",
        "*   (a) Xem mỗi pixel trong ảnh là một đặc trưng riêng rẽ. Ví dụ, pixel [1, 3] và pixel [4, 2] là hai đặc trưng khác nhau, được tính mean và std riêng.\n",
        "*   (b) Xem các pixel khác nhau trong ảnh là cùng 1 loại đặc trưng. Lúc này, pixel [1, 3] và pixel [4, 2] được xem là cùng 1 loại đặc trưng, được tính mean và std chung.\n",
        "\n",
        "Trong mục này, bạn cần hiện thực cách chuẩn hóa (a) trong hàm ```normalize_per_pixel``` và cách (b) trong hàm ```normalize_all_pixel```. Giả sử ta có ```m``` ảnh train ```x_0..xm−1```, mỗi ảnh train có R hàng và C cột, thì mean và std tính theo cách (a) sẽ là:\n",
        "\n",
        "\\begin{equation}\n",
        "\\overline{x}_{rc}=\\frac{1}{m}\\sum_{i=0}^{m-1}x_{rc}^{(i)}, 0 \\le r \\le R-1,0 \\le c \\le C-1 \\tag{1}\n",
        "\\end{equation}\n",
        "\n",
        "\\begin{equation}\n",
        "\\sigma_{rc}=\\sqrt{\\frac{1}{m}\\sum_{i=0}^{m-1}{(x_{rc}^{(i)}-\\overline{x}_{rc})^2}} \\tag{2}\n",
        "\\end{equation}\n",
        "\n",
        "Đối với cách (b) ta sẽ có:\n",
        "\n",
        "\\begin{equation}\n",
        "\\overline{x} = \\frac{1}{mRC}\\sum_{i=0}^{m-1}{\\sum_{r=0}^{R-1}{\\sum_{c=0}^{C-1}{x_{rc}^{(i)}}}} \\tag{3}\n",
        "\\end{equation}\n",
        "\n",
        "\\begin{equation}\n",
        "\\sigma=\\sqrt{\\frac{1}{mRC}\\sum_{i=0}^{m-1}{\\sum_{r=0}^{R-1}{\\sum_{c=0}^{C-1}{(x_{rc}^{(i)}-\\overline{x})^2}}}} \\tag{4}\n",
        "\\end{equation}\n",
        "\n",
        "Sau khi có được mean và std trên toàn bộ data huấn luyện, ta chuẩn hóa các mẫu trong tập huấn luyện theo cách sau:\n",
        "\n",
        "\\begin{equation}\n",
        "x^{(i)} = \\frac{x^{(i)}-\\overline{x}}{\\sigma} \\tag{5}\n",
        "\\end{equation} \n",
        "\n",
        "Đối với cách (a), việc này sẽ được áp dụng riêng cho từng pixel trong số $R\\times{C}$. Với cách (b), thì ta dùng chung $\\overline{x}$ và $\\sigma$ trong công thức (3) và (4) cho toàn bộ tất cả các pixel.\n",
        "\n",
        "Cần lưu ý rằng $\\overline{x}$ và $\\sigma$ chỉ được tính trên $m$ mẫu dữ liệu huấn luyện. Sau đó, hai giá trị này sẽ được dùng lại để chuẩn hóa các mẫu dữ liệu test (và validation nếu có). Việc tính $\\overline{x}$ và $\\sigma$ mà có sử dụng các dữ liệu trong tập test là vi phạm nguyên tắc đánh giá các mô hình học máy. "
      ]
    },
    {
      "cell_type": "markdown",
      "metadata": {
        "id": "vFcAf-yGvakI"
      },
      "source": [
        "### TODO 1: normalize_per_pixel"
      ]
    },
    {
      "cell_type": "code",
      "execution_count": null,
      "metadata": {
        "id": "sHmFIxrluSQb"
      },
      "outputs": [],
      "source": [
        "# GRADED FUNCTION\n",
        "def normalize_per_pixel(train_x, test_x):\n",
        "    \"\"\"TODO 1: Thực hiện hàm chuẩn hoá từng dự liệu theo từng pixel (xem mỗi pixel là một đặc trưng riêng)\n",
        "    Hàm này tính giá trị trung bình và độ lệch chuẩn của các pixel nằm ở cùng tọa độ trên tập hình ảnh huấn luyện\n",
        "        và thực hiện chuẩn hoá dữ liệu trên tập train_x và test_x bằng bằng các giá trị được tính toán này.\n",
        "    \n",
        "    Input:\n",
        "        - train_x: mảng numpy, train_x.shape = (num_samples, image_height, image_width). Là tập dữ liệu ảnh huấn luyện.\n",
        "        - test_x: mảng numpy, train_x.shape = (num_samples, image_height, image_width). Là tập dữ liệu ảnh kiểm định.\n",
        "    Output:\n",
        "        - norm_train_x: tương tự như mảng train_x. Là tập dữ liệu ảnh huấn luyện đã được chuẩn hoá bằng normalize_per_pixel.\n",
        "        - norm_test_x: tương tự như mảng test_x. Là tập dữ liệu ảnh kiểm định đã được chuẩn hoá bằng normalize_per_pixel.\n",
        "    Lưu ý: Shape của train_mean và train_std có dạng (1, image_height, image_width)\n",
        "    \"\"\"\n",
        "    norm_train_x = None\n",
        "    norm_test_x= None\n",
        "    \n",
        "    ### START CODE HERE ### (≈4 lines)\n",
        "    # Calculate the mean and standard deviation for each pixel position\n",
        "    train_mean = np.mean(train_x, axis=0, keepdims=True)\n",
        "    train_std = np.std(train_x, axis=0, keepdims=True)\n",
        "\n",
        "    # Normalize the training and test data\n",
        "    norm_train_x = (train_x - train_mean) / (train_std + 1e-7)\n",
        "    norm_test_x = (test_x - train_mean) / (train_std + 1e-7)\n",
        "    \n",
        "    return norm_train_x, norm_test_x\n",
        "\n",
        "    ### END CODE HERE ###\n",
        "    \n"
      ]
    },
    {
      "cell_type": "code",
      "execution_count": null,
      "metadata": {
        "id": "JTv9Jkbu9xnk"
      },
      "outputs": [],
      "source": [
        "### SANITY CHECK\n",
        "sc_train_x = np.arange(2*2*3).reshape(2,2,3)\n",
        "norm_sc_train_x, _ = normalize_per_pixel(sc_train_x, sc_train_x)\n",
        "eps = 1e-7\n",
        "assert np.allclose(np.mean(norm_sc_train_x, axis=0), 0, atol=eps), \"Mean of each pixel must be close to 0\"\n",
        "assert np.allclose(np.std(norm_sc_train_x, axis=0), 1, atol=eps), \"Standard deviation of each pixel must be close to 1\""
      ]
    },
    {
      "cell_type": "markdown",
      "metadata": {
        "id": "8HYardfWwSgk"
      },
      "source": [
        "### TODO 2: normalize_all_pixel"
      ]
    },
    {
      "cell_type": "code",
      "execution_count": null,
      "metadata": {
        "id": "UG8ed3buvDSo"
      },
      "outputs": [],
      "source": [
        "def normalize_all_pixels(train_x, test_x):\n",
        "    \"\"\"TODO 2: Thực hiện hàm chuẩn hoá từng dự liệu trên toàn bộ pixel của ảnh.\n",
        "    Hàm này tính giá trị trung bình và độ lệch chuẩn của tất cả các pixel có trong tập hình ảnh huấn luyện\n",
        "        và thực hiện chuẩn hoá dữ liệu trên tập train_x và test_x bằng các giá trị này.\n",
        "    \n",
        "    Input:\n",
        "        - train_x: mảng numpy, train_x.shape = (num_samples, image_height, image_width). Là tập dữ liệu ảnh huấn luyện.\n",
        "        - test_x: mảng numpy, train_x.shape = (num_samples, image_height, image_width). Là tập dữ liệu ảnh kiểm định.\n",
        "    Output:\n",
        "        - norm_train_x: tương tự như mảng train_x. Là tập dữ liệu ảnh huấn luyện đã được chuẩn hoá bằng normalize_all_pixel.\n",
        "        - norm_test_x: tương tự như mảng test_x. Là tập dữ liệu ảnh kiểm định đã được chuẩn hoá bằng normalize_all_pixel.\n",
        "    Lưu ý: Shape của train_mean và train_std có dạng (1, 1, 1)\n",
        "    \"\"\"\n",
        "    norm_train_x = None\n",
        "    norm_test_x = None\n",
        "\n",
        "    # Calculate the mean and standard deviation over all pixels\n",
        "    train_mean = np.mean(train_x)\n",
        "    train_std = np.std(train_x)\n",
        "\n",
        "    # Normalize the training and test data\n",
        "    norm_train_x = (train_x - train_mean) / (train_std + 1e-7)\n",
        "    norm_test_x = (test_x - train_mean) / (train_std + 1e-7)\n",
        "    \n",
        "    return norm_train_x, norm_test_x"
      ]
    },
    {
      "cell_type": "code",
      "execution_count": null,
      "metadata": {
        "id": "4wwjizm090Nc"
      },
      "outputs": [],
      "source": [
        "### SANITY CHECK\n",
        "sc_train_x = np.arange(2*2*3).reshape(2,2,3)\n",
        "norm_sc_train_x, _ = normalize_all_pixels(sc_train_x, sc_train_x)\n",
        "eps = 1e-7\n",
        "assert np.allclose(np.mean(norm_sc_train_x, axis=0), 0, atol=eps), \"Mean of each pixel must be close to 0\"\n",
        "assert np.allclose(np.std(norm_sc_train_x, axis=0), 1, atol=eps), \"Standard deviation of each pixel must be close to 1\""
      ]
    },
    {
      "cell_type": "markdown",
      "metadata": {
        "id": "ZF0YHtNGwhrD"
      },
      "source": [
        "## Duỗi dữ liệu\n",
        "\n",
        "Dữ liệu ở bước trên vẫn còn ở dạng tensor 3D ($2400 \\times 64 \\times 64$). Để có thể thực hiện các phép nhân ma trận trong bài toán logistic regression, ta cần chuẩn chúng về dạng tensor 2D ($2400 \\times 4096$). Các bạn cần thực hiện bước này trong hàm `reshape2D`."
      ]
    },
    {
      "cell_type": "markdown",
      "metadata": {
        "id": "NVJpl6PWwoWD"
      },
      "source": [
        "### TODO 3: reshape2D"
      ]
    },
    {
      "cell_type": "code",
      "execution_count": null,
      "metadata": {
        "id": "xoTuzdE2wl2V"
      },
      "outputs": [],
      "source": [
        "def reshape2D(tensor):\n",
        "    \"\"\"TODO 3: Biến đổi shape mảng 3D thành mảng 2D\n",
        "    Input:\n",
        "        - tensor: mảng numpy, tensor.shape = (num_samples, image_height, image_width). Là mảng tensor 3D đầu vào.\n",
        "    Output:\n",
        "        - result: mảng numpy, tensor.shape = (num_samples, image_height*image_width). Là kết quả của mảng đã được biến đổi.\n",
        "    \"\"\"\n",
        "    result = None\n",
        "    ### START CODE HERE ### (≈1 line)\n",
        "    result = tensor.reshape(tensor.shape[0], -1)\n",
        "    ### END CODE HERE ###\n",
        "    return result"
      ]
    },
    {
      "cell_type": "code",
      "execution_count": null,
      "metadata": {
        "id": "UMl11WsWxdxQ"
      },
      "outputs": [],
      "source": [
        "### SANITY CHECK\n",
        "tensor = np.arange(2*3*4).reshape(2,3,4)\n",
        "assert sum(reshape2D(tensor).shape)==14, \"Chưa đúng\""
      ]
    },
    {
      "cell_type": "markdown",
      "metadata": {
        "id": "e9kqWYy9wzpc"
      },
      "source": [
        "## Thêm đặc trưng 1 vào dữ liệu\n",
        "Để tính tích vô hướng dễ dàng, nối thêm một cột có giá trị bằng 1 vào `train_x` và `test_x` (concatenate có axis=1). Trong file có sẵn hàm `add_one` và ta nên thực hiện code trong hàm này. Sau bước này, dữ liệu huấn luyện sẽ có kích thước $2400 \\times 4097$."
      ]
    },
    {
      "cell_type": "markdown",
      "metadata": {
        "id": "_dd6kcfXw6g6"
      },
      "source": [
        "### TODO 4: add_one"
      ]
    },
    {
      "cell_type": "code",
      "execution_count": null,
      "metadata": {
        "id": "z-OxDdlIw4H-"
      },
      "outputs": [],
      "source": [
        "def add_one(tensor):\n",
        "    \"\"\"TODO 4: Thêm một đặc trưng có giá trị 1 vào dữ liệu đầu vào.\n",
        "    \n",
        "    Input:\n",
        "        - tensor: mảng numpy, tensor.shape = (num_samples, num_feat). Là mảng tensor 2D chiều đầu vào.\n",
        "    Output:\n",
        "        - result: mảng numpy, tensor.shape = (num_samples, num_feat + 1). Là kết quả của mảng đã được biến đổi.\n",
        "    \"\"\"\n",
        "    result = None\n",
        "    ### START CODE HERE ### (≈1 line)\n",
        "    ones = np.ones((tensor.shape[0], 1))\n",
        "    result = np.concatenate((ones, tensor), axis=1)\n",
        "    ### END CODE HERE ###\n",
        "    return result"
      ]
    },
    {
      "cell_type": "code",
      "execution_count": null,
      "metadata": {
        "id": "pDLPC_nYxap8"
      },
      "outputs": [],
      "source": [
        "### SANITY CHECK\n",
        "sc_train_x = np.arange(2*3).reshape(2,3)\n",
        "assert add_one(sc_train_x).sum() == 17, \"Chưa đúng\""
      ]
    },
    {
      "cell_type": "markdown",
      "metadata": {
        "id": "L1qEL0Ziw_y1"
      },
      "source": [
        "## Class LogisticClassifier: Logistic Regression với numpy\n",
        "\n",
        "Nhằm hỗ trợ cho việc lập trình, đội ngũ TA cung cấp sẵn cho các bạn class **LogisticClassifier**. Một trong các thành phần chính của class LogisticClassifier là `w`, tham số mà ta cần tìm khi huấn luyện. Tham số này là một mảng có số hàng bằng số đặc trưng của dữ liệu đầu vào, số cột bằng 1. Cụ thể trong bài toán phân loại ảnh xe này, `w` sẽ là một ma trận $4097\\times{1}$. `w` được khởi tạo ngẫu nhiên trong hàm `__init__(w_shape)`. Để truy xuất `w` từ bên trong class, ta dùng `self.w`, ví dụ:\n",
        "```python\n",
        "class LogisticClassifier(object):\n",
        "    def feed_forward(self, x):\n",
        "        print(self.w)\n",
        "```\n",
        "***Lưu ý: Không giữ các hàm \"print\" khi nộp bài hoặc kiểm tra điểm (check_score.py). Hàm này có thể gây ra lỗi hệ thống.**"
      ]
    },
    {
      "cell_type": "markdown",
      "metadata": {
        "id": "Veto4H-SxGGB"
      },
      "source": [
        "Để truy xuất w từ bên ngoài class, ta cần có một thực thể của class và gọi thông qua thực thể này, ví dụ:\n",
        "```python\n",
        "if __name__ == \"__main__\":\n",
        "    num_feature = train_x.shape[1]\n",
        "    bin_classifier = LogisticClassifier((num_feature, 1))\n",
        "    print(bin_classifier.w)\n",
        "```\n",
        "\n",
        "Đối với các hàm thuộc class **LogisticClassifier**, việc truy xuất cũng hoàn toàn giống với `w`. Chúng sẽ được mô tả chi tiết trong mục tiếp theo."
      ]
    },
    {
      "cell_type": "markdown",
      "metadata": {
        "id": "pK1l0tDWxg-Z"
      },
      "source": [
        "### Tính các giá trị phân loại\n",
        "\n",
        "Các giá trị phân loại, $\\hat{y}$, sẽ được tính trong hàm `feed_forward` của class `LogisticClassifier`. Công thức tính như sau:\n",
        "\n",
        "\\begin{equation}\n",
        "z = xw  \\tag{6}\n",
        "\\end{equation}\n",
        "\\begin{equation}\n",
        "\\hat{y} = \\frac{1}{1+e^{-z}} \\tag{7}\n",
        "\\end{equation}\n",
        "\n",
        "Ở đây, $w = [w_0, w_1,.., w_{4096}]^T$ là các tham số cần học (lưu trong biến `self.w` trong class `LogisticClassifier`). Lẽ ra công thức (6) được viết là $z=xw+w_{4096}$, tuy nhiên ở bước trên ta đã thêm 1 vào làm đặc trưng cuối cho tất cả các mẫu. Việc này giúp cho quá trình nhân ma trận và quản lý các biến gọn hơn."
      ]
    },
    {
      "cell_type": "markdown",
      "metadata": {
        "id": "fIlk1OZ6x8pt"
      },
      "source": [
        "#### TODO 5: feed_forward\n",
        "Các bạn hoàn thành hàm `feed_forward()` trong class `LogisticClassifier` ở trên"
      ]
    },
    {
      "cell_type": "markdown",
      "metadata": {
        "id": "bcsY9dYnyZpt"
      },
      "source": [
        "### Tính độ lỗi\n",
        "\n",
        "Việc tính độ lỗi được thực hiện trong hàm `compute_loss` của class `LogisticClassifier`. Công thức tính độ lỗi như sau:\n",
        "\n",
        "\\begin{equation}\n",
        "J(w) = -\\frac{1}{m}\\sum_{i=0}^{m-1}(y^{(i)}\\log{\\hat{y}^{(i)}} + (1-y^{(i)})\\log(1-\\hat{y}^{(i)})) \\tag{8}\n",
        "\\end{equation}\n",
        "\n",
        "Trong đó:\n",
        "-  $y^{(i)}$ là nhãn của mẫu thứ $i$, mẫu thuộc lớp 0 sẽ có $y^{(i)}=0$, mẫu thuộc lớp 1 sẽ có $y^{(i)}=1$. Ta có thể truy cập các nhãn này thông qua biến `train_y` và `test_y`.\n",
        "- $\\hat{y}^{(i)} \\in (0, 1)$ là phần tử thứ $i$ trong vector $\\hat{y}$.\n",
        "- $m=2400$ là tổng số mẫu huấn luyện.\n",
        "\n",
        "\n",
        "Để tính trung bình trên ma trận theo hàng hoặc cột, ta có thể sử dụng hàm `np.mean()` với tham số axis tương ứng."
      ]
    },
    {
      "cell_type": "markdown",
      "metadata": {
        "id": "Sh0hbNAryb4D"
      },
      "source": [
        "#### TODO 6: compute_loss\n",
        "Các bạn hoàn thành hàm `compute_loss()` trong class `LogisticClassifier` ở trên."
      ]
    },
    {
      "cell_type": "markdown",
      "metadata": {
        "id": "rQJjH3D2ytLu"
      },
      "source": [
        "### Tính đạo hàm\n",
        "Để tính đạo hàm riêng cho thành phần $w_j$ trong $w$ trong hàm `get_grad`, ta dùng công thức sau:\n",
        "\\begin{equation}\n",
        "\\frac{\\partial  J(w_j)}{\\partial w_j} = \\frac{1}{m}\\sum_{i=1}^{m}(\\hat{y}^{(i)} - y^{(i)})x^{(i)}_j \\tag{9}\n",
        "\\end{equation}\n",
        "\n",
        "Trong trường hợp này, sau khi thêm 1 vào `train_x` thì ta sẽ có $0 \\le j \\le 4096$."
      ]
    },
    {
      "cell_type": "markdown",
      "metadata": {
        "id": "s4HOnxOXyxLR"
      },
      "source": [
        "#### TODO 7: get_grad\n",
        "Các bạn hoàn thành hàm `get_grad()` trong class `LogisticClassifier` ở trên."
      ]
    },
    {
      "cell_type": "markdown",
      "metadata": {
        "id": "I8E3zBWJy-JG"
      },
      "source": [
        "### Cập nhật $w$\n",
        "Để huấn luyện được mô hình phân loại trong hàm `update_weight`, ta cần cập nhật $w$ theo công thức sau:\n",
        "\\begin{equation}\n",
        "w = w - \\alpha\\times\\frac{\\partial  J(w)}{\\partial w} \\tag{10}\n",
        "\\end{equation}\n",
        "\n",
        "Với $\\alpha$ là hệ số học (`learning_rate`)."
      ]
    },
    {
      "cell_type": "markdown",
      "metadata": {
        "id": "1SORwzFWzB5R"
      },
      "source": [
        "#### TODO 8: update_weight\n",
        "Các bạn hoàn thành hàm `update_weight()` trong class `LogisticClassifier` ở trên."
      ]
    },
    {
      "cell_type": "markdown",
      "metadata": {
        "id": "koyotO_gzQ63"
      },
      "source": [
        "### Cập nhật $w$ dùng momentum\n",
        "\n",
        "Giải thuật cập nhật trình bày trong phần trước có điểm yếu là chậm và dễ rơi vào tối ưu cục bộ. Tuy trong bài này, giải thuật đó cũng đủ để giải quyết, nhưng ta vẫn có thể sử dụng giải thuật có quán tính để việc huấn luyện diễn ra nhanh hơn.\n",
        "\n",
        "Khởi tạo ma trận quán tính trước khi vào vòng lặp chính:\n",
        "\\begin{equation}\n",
        "\\Delta w = 0 \\tag{11}\n",
        "\\end{equation}\n",
        "\n",
        "Ở đây, $\\Delta w$ là ma trận có kích thước bằng chính kích thước của $w$. Quá trình cập nhật $w$ sẽ được diễn ra như sau:\n",
        "\\begin{equation}\n",
        "\\Delta w = \\gamma\\Delta w + \\alpha\\frac{\\partial  J(w)}{\\partial w} \\tag{12}\n",
        "\\end{equation}\n",
        "\n",
        "\\begin{equation}\n",
        "w = w - \\Delta w \\tag{13}\n",
        "\\end{equation}\n",
        "\n",
        "Với $\\gamma$ là hệ số quán tính (thường được đặt là 0.9)."
      ]
    },
    {
      "cell_type": "code",
      "execution_count": null,
      "metadata": {
        "id": "UfClTzjqxDPH"
      },
      "outputs": [],
      "source": [
        "# GRADED FUNCTION\n",
        "class LogisticClassifier(object):\n",
        "    def __init__(self, w_shape):\n",
        "        mean = 0\n",
        "        std = 1\n",
        "        self.w = np.random.normal(0, np.sqrt(2./np.sum(w_shape)), w_shape)\n",
        "\n",
        "\n",
        "    def feed_forward(self, x):\n",
        "        z = np.dot(x, self.w)\n",
        "        y_hat = 1. / (1. + np.exp(-z))\n",
        "        return y_hat\n",
        "\n",
        "\n",
        "\n",
        "    def compute_loss(self, y, y_hat):\n",
        "        return -np.mean(y*np.log(y_hat + 1e-8) + (1-y)*np.log(1 - y_hat + 1e-8))\n",
        "\n",
        "\n",
        "\n",
        "    def get_grad(self, x, y, y_hat):\n",
        "        return np.mean((y_hat - y)*x, axis=0, keepdims=True).T\n",
        "\n",
        "\n",
        "\n",
        "    def update_weight(self, grad, learning_rate):\n",
        "        self.w = self.w - learning_rate*grad\n",
        "        return self.w\n",
        "\n",
        "    def numerical_check(self, x, y, grad):\n",
        "        eps = 1e-4\n",
        "        w_test0 = np.copy(self.w)\n",
        "        w_test1 = np.copy(self.w)\n",
        "        w_test0[2] = w_test0[2] - eps\n",
        "        w_test1[2] = w_test1[2] + eps\n",
        "\n",
        "        y_hat0 = np.dot(x, w_test0)\n",
        "        y_hat0 = 1. / (1. + np.exp(-y_hat0))\n",
        "        loss0 = self.compute_loss(y, y_hat0) \n",
        "\n",
        "        y_hat1 = np.dot(x, w_test1)\n",
        "        y_hat1 = 1. / (1. + np.exp(-y_hat1))\n",
        "        loss1 = self.compute_loss(y, y_hat1) \n",
        "\n",
        "        numerical_grad = (loss1 - loss0) / (2 * eps)\n",
        "        return numerical_grad"
      ]
    },
    {
      "cell_type": "code",
      "execution_count": null,
      "metadata": {
        "id": "PcypA56gxWkK"
      },
      "outputs": [],
      "source": [
        "### SANITY CHECK\n",
        "eps = 0.001        \n",
        "classifer = LogisticClassifier((3,1))\n",
        "classifer.w = np.arange(3*1).reshape(3,1)\n",
        "x = np.ones(2*3).reshape(2,3)\n",
        "y = np.ones(2).reshape(2,1)\n",
        "\n",
        "# TODO 5\n",
        "y_hat = classifer.feed_forward(x)\n",
        "assert abs(sum(y_hat) - 1.905) < eps, \"Chưa đúng\"\n",
        "# TODO 6\n",
        "loss = classifer.compute_loss(y, y_hat)\n",
        "assert abs(loss - 0.048) < eps, \"Chưa đúng\"\n",
        "# TODO 7\n",
        "grad = classifer.get_grad(x, y, y_hat)\n",
        "assert abs(sum(grad) + 0.142) < eps, \"Chưa đúng\"\n",
        "# TODO 8\n",
        "updateweight = classifer.update_weight(grad, 0.1)\n",
        "assert abs(sum(updateweight) - 3.014) < eps, \"Chưa đúng\""
      ]
    },
    {
      "cell_type": "markdown",
      "metadata": {
        "id": "NBTNnbtPzh3h"
      },
      "source": [
        "### Đánh giá mô hình phân loại\n",
        "Để đánh giá mô hình phân loại trên tập kiểm thử (`test_x` và `test_y`), trước tiên, ta cần thực hiện tính các giá trị dự đoán của mô hình trên`test_x`. Sau khi đã có các giá trị này, ta sử dụng các tiêu chí sau để đánh giá mô hình:\n",
        "\n",
        "\\begin{equation}\n",
        "Precision = \\frac{TP}{TP+FP} \\tag{14}\n",
        "\\end{equation}\n",
        "\n",
        "\\begin{equation}\n",
        "Recall = \\frac{TP}{P} \\tag{15}\n",
        "\\end{equation}\n",
        "\n",
        "\\begin{equation}\n",
        "F_1-score = 2\\times\\frac{Precision\\times Recall}{Precision+Recall} \\tag{16}\n",
        "\\end{equation}\n",
        "\n",
        "Trong đó:\n",
        "- Lớp positive là lớp có giá trị y = 1.\n",
        "- TP (true positive) là tổng số các mẫu mà mô hình dự đoán là positive. ($\\hat{y}=1$) và thực sự có nhãn là positive ($y=1$).\n",
        "- FP (false positive) là tổng số các mẫu mô hình dự đoán là positive($\\hat{y}=1$) nhưng thực chất có nhãn là negative ($y=0$).\n",
        "- P là tổng số mẫu positive trong tập test.\n",
        "\n",
        "Nhiệm vụ của bạn trong bước này là tính các thông số trên trong hàm `test`. Khi tiến hành kiểm thử, người ra đề đã tính được các giá trị $Precision=0.766$, $Recall=0.830$ và $F_1-score=0.797$. Bạn hãy cố gắng hoàn thiện bài làm của mình để đạt kết quả tương tự hoặc tốt hơn.\n"
      ]
    },
    {
      "cell_type": "markdown",
      "metadata": {
        "id": "sZS0GVBkzpu8"
      },
      "source": [
        "#### TODO 9: Evaluation"
      ]
    },
    {
      "cell_type": "code",
      "execution_count": null,
      "metadata": {
        "id": "qxKX-D5hzSq0"
      },
      "outputs": [],
      "source": [
        "def evaluation(y_hat, y, thres=0.5):\n",
        "    # Convert probabilities into binary outputs\n",
        "    y_pred = np.where(y_hat >= thres, 1, 0)\n",
        "\n",
        "    # Compute true positive, false positive, true negative, false negative\n",
        "    tp = np.sum((y == 1) & (y_pred == 1))\n",
        "    fp = np.sum((y == 0) & (y_pred == 1))\n",
        "    tn = np.sum((y == 0) & (y_pred == 0))\n",
        "    fn = np.sum((y == 1) & (y_pred == 0))\n",
        "\n",
        "    # Compute precision, recall and f1\n",
        "    precision = tp / (tp + fp) if (tp + fp) != 0 else 0\n",
        "    recall = tp / (tp + fn) if (tp + fn) != 0 else 0\n",
        "    f1 = 2 * precision * recall / (precision + recall) if (precision + recall) != 0 else 0\n",
        "\n",
        "    return precision, recall, f1"
      ]
    },
    {
      "cell_type": "code",
      "execution_count": null,
      "metadata": {
        "id": "H4ju9atbya4B"
      },
      "outputs": [],
      "source": [
        "### SANITY CHECK\n",
        "y_hat = np.array([0.4, 0.7, 0.8, 0.3, 0.2])\n",
        "y = np.array([0, 1, 1, 0, 0])\n",
        "assert sum(evaluation(y_hat, y)) == 3, \"Chưa đúng\""
      ]
    },
    {
      "cell_type": "markdown",
      "metadata": {
        "id": "eZZJPjbx-9m1"
      },
      "source": [
        "### Vòng lặp huấn luyện\n",
        "\n",
        "Vòng lặp của quá trình huấn luyện được xây dựng trong đoạn code sau đây. \n",
        "Tất cả khung sườn cho việc thực thi đã được lập trình sẵn. Bạn có thể thay đổi hai siêu tham số tác động đến quá trình huấn luyện, gồm có:\n",
        "\n",
        "- `num_epoch`: số lượng vòng lặp cho quá trình huấn luyện.\n",
        "- `learning_rate`: hệ số học $\\alpha$.  \n",
        "\n",
        "\n",
        "Tham số phụ:\n",
        "- `display_step`: số lượng epochs cần đạt được để vẽ đồ thị độ lỗi trong lúc huấn luyện."
      ]
    },
    {
      "cell_type": "code",
      "execution_count": null,
      "metadata": {
        "id": "jAg3ehjciL9I"
      },
      "outputs": [],
      "source": [
        "# Khai báo các siêu tham số\n",
        "normalize_method = \"all_pixels\"\n",
        "num_epoch = 14 \n",
        "learning_rate = 0.001 \n",
        "batch_size = 32\n",
        "num_classes = 2\n",
        "display_step = 100\n",
        "np.random.seed(2020)\n",
        "tf.random.set_seed(2020)"
      ]
    },
    {
      "cell_type": "code",
      "execution_count": null,
      "metadata": {
        "id": "HMJvYJjl_CWI"
      },
      "outputs": [],
      "source": [
        "def plot_loss(all_loss):\n",
        "    plt.figure(1)\n",
        "    plt.clf()\n",
        "    plt.plot(all_loss)"
      ]
    },
    {
      "cell_type": "code",
      "execution_count": null,
      "metadata": {
        "colab": {
          "base_uri": "https://localhost:8080/"
        },
        "id": "aOJR5upR_Gym",
        "outputId": "656a6133-c3e3-47d9-edaa-82b7ec8a2ec1"
      },
      "outputs": [
        {
          "output_type": "stream",
          "name": "stdout",
          "text": [
            "Precision: 0.742\n",
            "Recall: 0.653\n",
            "F1-score: 0.695\n"
          ]
        }
      ],
      "source": [
        "# Chuẩn hoá dữ liệu: Chọn một tron 2 methods mà bạn đã định nghĩa sẵn\n",
        "if normalize_method == \"all_pixels\":\n",
        "    train_x, test_x = normalize_all_pixels(train_x, test_x) \n",
        "else:\n",
        "    train_x, test_x = normalize_per_pixel(train_x, test_x) \n",
        "\n",
        "# Reshape dữ liệu\n",
        "train_x = reshape2D(train_x)\n",
        "test_x = reshape2D(test_x)\n",
        "\n",
        "# Thêm giá trị 1.0 như feature cuối cùng của train_x và test_x\n",
        "train_x = add_one(train_x) \n",
        "test_x = add_one(test_x)\n",
        "\n",
        "# Tạo classifier\n",
        "num_feature = train_x.shape[1]\n",
        "bin_classifier = LogisticClassifier((num_feature, 1))\n",
        "momentum = np.zeros_like(bin_classifier.w)\n",
        "\n",
        "# Huấn luyện mô hình\n",
        "all_loss = []\n",
        "plt.ion()\n",
        "for e in range(num_epoch):    \n",
        "    y_hat = bin_classifier.feed_forward(train_x)\n",
        "    loss = bin_classifier.compute_loss(train_y, y_hat)\n",
        "    grad = bin_classifier.get_grad(train_x, train_y, y_hat)\n",
        "\n",
        "    # Cập nhật trọng số weight\n",
        "    bin_classifier.update_weight(grad, learning_rate)\n",
        "    all_loss.append(loss) \n",
        "\n",
        "    if (e % display_step == display_step-1):\n",
        "        plot_loss(all_loss)\n",
        "        plt.show()\n",
        "        plt.pause(0.1)     \n",
        "        print(\"Epoch %d: loss là %.5f\" % (e+1, loss))\n",
        "\n",
        "# Đánh giá mô hình\n",
        "y_hat = bin_classifier.feed_forward(test_x)\n",
        "precision, recall, f1 = evaluation(y_hat, test_y)\n",
        "print(\"Precision: %.3f\" % precision)\n",
        "print(\"Recall: %.3f\" % recall)\n",
        "print(\"F1-score: %.3f\" % f1)"
      ]
    },
    {
      "cell_type": "markdown",
      "metadata": {
        "id": "7qYBIeqd0eEd"
      },
      "source": [
        "## Class LogisticRegressionTF: Logistic regression với Tensorflow\n",
        "Chúng ta sử dụng tensorflow eager execution để cài đặt mô hình logistic regression. Với tf eager execution, giá trị của các biến được tính toán ngay lập tức thay vì xây dựng computational graph để chạy sau đó. Một trong những lợi ích thiết thực nhất là giúp chúng ta dễ dàng debug mô hình, xây dựng được dynamic model.\n",
        "\n",
        "Để xây dựng mô hình bằng eager execution, chúng ta thường định nghĩa một lớp đối tượng như mình họa ở dưới.\n",
        "\n",
        "Chúng ta kế thừa lớp Model và cài đặt 2 hàm chính:\n",
        "- init: khởi tạo tất cả các tham số. \n",
        "- call: hàm dùng cho feedforward."
      ]
    },
    {
      "cell_type": "code",
      "execution_count": null,
      "metadata": {
        "id": "swk_3L72x75j"
      },
      "outputs": [],
      "source": [
        "class LogisticRegressionTF(tf.keras.Model):\n",
        "\n",
        "    def __init__(self, num_class):\n",
        "        super(LogisticRegressionTF, self).__init__()\n",
        "        # init all weights here\n",
        "        self.dense = tf.keras.layers.Dense(num_class)\n",
        "\n",
        "    def call(self, inputs, training=None, mask=None):\n",
        "        output = self.dense(inputs)\n",
        "        \n",
        "        output = tf.nn.softmax(output)        \n",
        "        return output"
      ]
    },
    {
      "cell_type": "markdown",
      "metadata": {
        "id": "lcK5axnTiL9L"
      },
      "source": [
        "#### One-hot vector\n",
        "One-hot vector là một vector có giá trị nguyên, trong đó chỉ 1 phần tử có giá trị $1$, còn lại toàn bộ các phần tử khác đều có giá trị $0$.\n",
        "\n",
        "\n",
        "Một giá trị số nguyên dương $k$ bất kì có thể được biểu diễn dưới dạng 1 one-hot vector thông qua một hàm one-hot encoder đơn giản. Trong vector này phần tử vị trí $k$ có giá trị $1$."
      ]
    },
    {
      "cell_type": "markdown",
      "metadata": {
        "id": "m5ynuv-y1WM5"
      },
      "source": [
        "### TODO 10: Định nghĩa one-hot encoder"
      ]
    },
    {
      "cell_type": "code",
      "execution_count": null,
      "metadata": {
        "id": "X2720NV003uN"
      },
      "outputs": [],
      "source": [
        "def create_one_hot(y, num_class=10):\n",
        "    # Initialize a zero matrix with shape (len(y), num_class)\n",
        "    eye_mat = np.zeros((len(y), num_class))\n",
        "\n",
        "    # Assign 1 to the column that corresponds to the class label\n",
        "    eye_mat[np.arange(len(y)), y.T] = 1\n",
        "\n",
        "    return eye_mat"
      ]
    },
    {
      "cell_type": "code",
      "execution_count": null,
      "metadata": {
        "colab": {
          "base_uri": "https://localhost:8080/",
          "height": 243
        },
        "id": "OUscFz0ziL9M",
        "outputId": "d6ff5d1f-fc17-4d1c-f80c-0198c1d66c1e"
      },
      "outputs": [
        {
          "output_type": "error",
          "ename": "NameError",
          "evalue": "ignored",
          "traceback": [
            "\u001b[0;31m---------------------------------------------------------------------------\u001b[0m",
            "\u001b[0;31mNameError\u001b[0m                                 Traceback (most recent call last)",
            "\u001b[0;32m<ipython-input-38-318e976f5477>\u001b[0m in \u001b[0;36m<cell line: 2>\u001b[0;34m()\u001b[0m\n\u001b[1;32m      1\u001b[0m \u001b[0;31m# Khai báo siêu tham số huấn luyện\u001b[0m\u001b[0;34m\u001b[0m\u001b[0;34m\u001b[0m\u001b[0m\n\u001b[0;32m----> 2\u001b[0;31m \u001b[0mn_samples\u001b[0m \u001b[0;34m=\u001b[0m \u001b[0mraw_train_X\u001b[0m\u001b[0;34m.\u001b[0m\u001b[0mshape\u001b[0m\u001b[0;34m[\u001b[0m\u001b[0;36m0\u001b[0m\u001b[0;34m]\u001b[0m\u001b[0;34m\u001b[0m\u001b[0;34m\u001b[0m\u001b[0m\n\u001b[0m\u001b[1;32m      3\u001b[0m \u001b[0mlearning_rate\u001b[0m \u001b[0;34m=\u001b[0m \u001b[0;36m0.005\u001b[0m\u001b[0;34m\u001b[0m\u001b[0;34m\u001b[0m\u001b[0m\n\u001b[1;32m      4\u001b[0m \u001b[0mtraining_epochs\u001b[0m \u001b[0;34m=\u001b[0m \u001b[0;36m10000\u001b[0m\u001b[0;34m\u001b[0m\u001b[0;34m\u001b[0m\u001b[0m\n\u001b[1;32m      5\u001b[0m \u001b[0mbatch_size\u001b[0m \u001b[0;34m=\u001b[0m \u001b[0mn_samples\u001b[0m \u001b[0;31m# Full Batch Gradient Descent\u001b[0m\u001b[0;34m\u001b[0m\u001b[0;34m\u001b[0m\u001b[0m\n",
            "\u001b[0;31mNameError\u001b[0m: name 'raw_train_X' is not defined"
          ]
        }
      ],
      "source": [
        "# Khai báo siêu tham số huấn luyện\n",
        "n_samples = raw_train_X.shape[0]\n",
        "learning_rate = 0.005\n",
        "training_epochs = 10000\n",
        "batch_size = n_samples # Full Batch Gradient Descent\n",
        "\n",
        "display_step = 1000\n",
        "n_samples, dimension = raw_train_X.shape\n",
        "\n",
        "# Khai báo các tensors input, output bằng kiểu tf.constant trong tensorflow.\n",
        "train_X = tf.constant(raw_train_X, dtype=tf.float64)\n",
        "\n",
        "train_Y = tf.reshape(tensor=train_Y, shape=(-1, 1))\n",
        "train_Y = tf.constant(train_Y, dtype=tf.float64) \n",
        "\n",
        "# Khai báo các tensors trọng số bằng kiểu tf.Variable trong tensorflow.\n",
        "## Khởi tạo trọng số cho quá trình huấn luyện bằng np.random.normal\n",
        "W = tf.Variable(np.random.normal(size=(dimension, 1)), trainable=True) \n",
        "b = tf.Variable(np.random.normal(size=(1, 1)), trainable=True)"
      ]
    },
    {
      "cell_type": "code",
      "execution_count": null,
      "metadata": {
        "id": "__DN5vkP1ei_"
      },
      "outputs": [],
      "source": [
        "### SANITY CHECK\n",
        "x = [1, 2, 3]\n",
        "y = create_one_hot(x, 4)\n",
        "assert y.shape == (3,4), \"Chưa đúng\"\n",
        "assert sum(np.argmax(y, axis=0)) == 3, \"Chưa đúng\""
      ]
    },
    {
      "cell_type": "markdown",
      "metadata": {
        "id": "BhoNamB81kaz"
      },
      "source": [
        "### Huấn luyện mô hình với Tensorflow"
      ]
    },
    {
      "cell_type": "code",
      "execution_count": null,
      "metadata": {
        "id": "p0KzImlciL9N"
      },
      "outputs": [],
      "source": [
        "# Khai báo các siêu tham số\n",
        "normalize_method = \"all_pixels\"\n",
        "num_epoch = 14 \n",
        "learning_rate = 0.001 \n",
        "batch_size = 32\n",
        "num_classes = 2\n",
        "np.random.seed(2020)\n",
        "tf.random.set_seed(2020)"
      ]
    },
    {
      "cell_type": "code",
      "execution_count": null,
      "metadata": {
        "id": "Ct-bwUGm1pDx"
      },
      "outputs": [],
      "source": [
        "# Chuẩn hoá dữ liệu: Chọn một tron 2 methods mà bạn đã định nghĩa sẵn\n",
        "if normalize_method == \"all_pixels\":\n",
        "    train_x, test_x = normalize_all_pixels(train_x, test_x) \n",
        "else:\n",
        "    train_x, test_x = normalize_per_pixel(train_x, test_x) \n",
        "\n",
        "# Reshape dữ liệu\n",
        "train_x = reshape2D(train_x)\n",
        "test_x = reshape2D(test_x)\n",
        "train_y = create_one_hot(train_y.astype('int32').flatten().tolist(), num_class=2)\n",
        "test_y = create_one_hot(test_y.astype('int32').flatten().tolist(), num_class=2)\n",
        "\n",
        "device = '/cpu:0' if len(tf.config.experimental.list_physical_devices('GPU')) == 0 else '/gpu:0'\n",
        "\n",
        "with tf.device(device):\n",
        "    # Xây dựng model và hàm optimizer\n",
        "    model = LogisticRegressionTF(num_classes)\n",
        "    model.compile(optimizer=tf.optimizers.Adam(learning_rate), loss='binary_crossentropy',\n",
        "                  metrics=['accuracy'])\n",
        "    \n",
        "\n",
        "    # Huấn luyện mô hình.\n",
        "    model.fit(train_x, train_y, batch_size=batch_size, epochs=num_epoch,\n",
        "              validation_data=(test_x, test_y), verbose=2)\n",
        "\n",
        "    # Đánh giá mô hình\n",
        "    scores = model.evaluate(test_x, test_y, 32, verbose=2)\n",
        "    \n",
        "    y_hat = model.predict(test_x)\n",
        "    precision, recall, f1 = evaluation(y_hat, test_y)\n",
        "    print(\"Precision: %.3f\" % precision)\n",
        "    print(\"Recall: %.3f\" % recall)\n",
        "    print(\"F1-score: %.3f\" % f1)"
      ]
    }
  ],
  "metadata": {
    "colab": {
      "collapsed_sections": [
        "fIlk1OZ6x8pt",
        "Sh0hbNAryb4D",
        "s4HOnxOXyxLR",
        "1SORwzFWzB5R"
      ],
      "provenance": []
    },
    "kernelspec": {
      "display_name": "Python 3",
      "language": "python",
      "name": "python3"
    },
    "language_info": {
      "codemirror_mode": {
        "name": "ipython",
        "version": 3
      },
      "file_extension": ".py",
      "mimetype": "text/x-python",
      "name": "python",
      "nbconvert_exporter": "python",
      "pygments_lexer": "ipython3",
      "version": "3.7.9"
    },
    "gpuClass": "standard"
  },
  "nbformat": 4,
  "nbformat_minor": 0
}
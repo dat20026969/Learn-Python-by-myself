{
  "nbformat": 4,
  "nbformat_minor": 0,
  "metadata": {
    "colab": {
      "provenance": []
    },
    "kernelspec": {
      "name": "python3",
      "display_name": "Python 3"
    },
    "language_info": {
      "name": "python"
    }
  },
  "cells": [
    {
      "cell_type": "code",
      "execution_count": null,
      "metadata": {
        "id": "t1FoYGlyuNfd"
      },
      "outputs": [],
      "source": [
        "pip install chempy"
      ]
    },
    {
      "cell_type": "code",
      "source": [
        "from chempy import balance_stoichiometry\n",
        "import sys\n",
        "\n",
        "def balance_chemical_equation(reactants, products):\n",
        "    try:\n",
        "        balanced_reactants, balanced_products = balance_stoichiometry(reactants, products)\n",
        "        balanced_equation = ' + '.join([f\"{v} {k}\" for k, v in balanced_reactants.items()]) + \" -> \" + ' + '.join([f\"{v} {k}\" for k, v in balanced_products.items()])\n",
        "        return balanced_equation\n",
        "    except Exception as e:\n",
        "        print(f\"Error: {e}\", file=sys.stderr)\n",
        "        return None\n",
        "\n",
        "def main():\n",
        "    reactants_input = input(\"Enter reactants (separated by commas): \")\n",
        "    products_input = input(\"Enter products (separated by commas): \")\n",
        "\n",
        "    reactants = [x.strip() for x in reactants_input.split(',')]\n",
        "    products = [x.strip() for x in products_input.split(',')]\n",
        "\n",
        "    balanced_equation = balance_chemical_equation(reactants, products)\n",
        "    if balanced_equation:\n",
        "        print(\"Balanced equation:\", balanced_equation)\n",
        "    else:\n",
        "        print(\"Failed to balance the chemical equation.\")\n",
        "\n",
        "if __name__ == \"__main__\":\n",
        "    main()\n"
      ],
      "metadata": {
        "colab": {
          "base_uri": "https://localhost:8080/"
        },
        "id": "2w-2JPlkuSaD",
        "outputId": "fff442e0-a03f-4a90-e15d-087193753ad0"
      },
      "execution_count": null,
      "outputs": [
        {
          "output_type": "stream",
          "name": "stdout",
          "text": [
            "Enter reactants (separated by commas): Cu, HNO3\n",
            "Enter products (separated by commas): Cu(NO3)2, N2O, H2O\n",
            "Balanced equation: 4 Cu + 10 HNO3 -> 4 Cu(NO3)2 + 1 N2O + 5 H2O\n"
          ]
        }
      ]
    }
  ]
}